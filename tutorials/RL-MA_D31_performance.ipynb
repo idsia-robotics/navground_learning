{
 "cells": [
  {
   "cell_type": "markdown",
   "id": "6ae56731-a7f9-4f38-8c16-8c47471e6b73",
   "metadata": {},
   "source": [
    "# Train a policy using RL, part 2: multi-agent environment"
   ]
  },
  {
   "cell_type": "markdown",
   "id": "431203ea-5035-4806-bffe-512a69b80c54",
   "metadata": {},
   "source": [
    "In this notebook, we training multiple agents to perform the same task as in the `RL` notebook."
   ]
  },
  {
   "cell_type": "code",
   "execution_count": 41,
   "id": "a436a38d-8a6b-4bc4-9d02-ceca8b50b9e8",
   "metadata": {
    "editable": true,
    "slideshow": {
     "slide_type": ""
    },
    "tags": []
   },
   "outputs": [],
   "source": [
    "import gymnasium as gym\n",
    "import numpy as np\n",
    "from navground import sim\n",
    "from navground_learning import ControlActionConfig, ObservationConfig\n",
    "from navground_learning.reward import SocialReward\n",
    "from navground_learning.evaluate import make_experiment\n",
    "from navground_learning.config import WorldConfig, GroupConfig\n",
    "from stable_baselines3 import SAC\n",
    "\n",
    "import warnings\n",
    "warnings.filterwarnings('ignore')\n",
    "\n",
    "sensor = sim.load_state_estimation(\"\"\"\n",
    "type: Discs\n",
    "number: 5\n",
    "range: 5.0\n",
    "max_speed: 0.12\n",
    "max_radius: 0.0\n",
    "\"\"\")\n",
    "\n",
    "scenario = sim.load_scenario(\"\"\"\n",
    "type: Cross\n",
    "agent_margin: 0.1\n",
    "side: 4\n",
    "target_margin: 0.1\n",
    "tolerance: 0.5\n",
    "groups:\n",
    "  -\n",
    "    type: thymio\n",
    "    number: 10\n",
    "    radius: 0.1\n",
    "    control_period: 0.1\n",
    "    speed_tolerance: 0.02\n",
    "    color: gray\n",
    "    kinematics:\n",
    "      type: 2WDiff\n",
    "      wheel_axis: 0.094\n",
    "      max_speed: 0.12\n",
    "    behavior:\n",
    "      type: HL\n",
    "      optimal_speed: 0.12\n",
    "      horizon: 5.0\n",
    "      tau: 0.25\n",
    "      eta: 0.5\n",
    "      safety_margin: 0.1\n",
    "    state_estimation:\n",
    "      type: Bounded\n",
    "      range: 5.0\n",
    "\"\"\")\n",
    "\n",
    "action_config = ControlActionConfig(max_acceleration=1.0, max_angular_acceleration=10.0, \n",
    "                                    use_acceleration_action=True)\n",
    "\n",
    "observation_config = ObservationConfig(include_target_distance=True, include_velocity=True, \n",
    "                                       include_angular_speed=True, flat=True)\n",
    "\n",
    "sa_model = SAC.load('/Users/jerome.guzzi/Dev/ROS/ros2_ws/src/navground_learning/docs/source/tutorials/policies/RL/SAC.zip')\n",
    "\n",
    "gc = GroupConfig(action=action_config, observation=observation_config, sensor=sensor, indices=slice(0, 20, 1))\n",
    "wc = WorldConfig(groups=[gc], policies=[(slice(0, 20, 1), sa_model.policy)])\n",
    "exp = make_experiment(scenario=scenario, config=wc, steps=3600, terminate_when_all_idle_or_stuck=False)"
   ]
  },
  {
   "cell_type": "code",
   "execution_count": 42,
   "id": "8297bf63-6773-481b-bdc9-b8c30bdeb286",
   "metadata": {},
   "outputs": [
    {
     "data": {
      "text/plain": [
       "<navground.sim._navground_sim.ExperimentalRun at 0x3a87e06b0>"
      ]
     },
     "execution_count": 42,
     "metadata": {},
     "output_type": "execute_result"
    }
   ],
   "source": [
    "exp.run_once(1)"
   ]
  },
  {
   "cell_type": "code",
   "execution_count": 43,
   "id": "fe6e6f6a-6adf-44e9-ad1f-b3a025a00eff",
   "metadata": {},
   "outputs": [
    {
     "data": {
      "text/plain": [
       "4.271785"
      ]
     },
     "execution_count": 43,
     "metadata": {},
     "output_type": "execute_result"
    }
   ],
   "source": [
    "exp.runs[1].duration.total_seconds()"
   ]
  },
  {
   "cell_type": "code",
   "execution_count": null,
   "id": "d0b3bd53-7a0d-4cda-9939-8c3f850e8cc3",
   "metadata": {},
   "outputs": [],
   "source": []
  }
 ],
 "metadata": {
  "kernelspec": {
   "display_name": "Python 3 (ipykernel)",
   "language": "python",
   "name": "python3"
  },
  "language_info": {
   "codemirror_mode": {
    "name": "ipython",
    "version": 3
   },
   "file_extension": ".py",
   "mimetype": "text/x-python",
   "name": "python",
   "nbconvert_exporter": "python",
   "pygments_lexer": "ipython3",
   "version": "3.12.5"
  }
 },
 "nbformat": 4,
 "nbformat_minor": 5
}
