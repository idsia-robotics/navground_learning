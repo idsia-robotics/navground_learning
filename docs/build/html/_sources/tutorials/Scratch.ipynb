{
 "cells": [
  {
   "cell_type": "code",
   "execution_count": 1,
   "id": "c62e7468-8925-411b-a83e-a1d7a45285b7",
   "metadata": {
    "editable": true,
    "slideshow": {
     "slide_type": ""
    },
    "tags": []
   },
   "outputs": [],
   "source": [
    "from navground import core, sim\n",
    "import numpy as np"
   ]
  },
  {
   "cell_type": "code",
   "execution_count": 2,
   "id": "094e2823-4542-422a-9cae-fe2c7143dfae",
   "metadata": {},
   "outputs": [
    {
     "data": {
      "text/plain": [
       "<navground.core._navground.Behavior at 0x109073e90>"
      ]
     },
     "execution_count": 2,
     "metadata": {},
     "output_type": "execute_result"
    }
   ],
   "source": [
    "behavior = core.load_behavior(\"\"\"\n",
    "optimal_speed: 0.12\n",
    "\"\"\")\n",
    "behavior"
   ]
  },
  {
   "cell_type": "code",
   "execution_count": 3,
   "id": "2b9381e7-97e3-45af-bc65-ea333b0fe3f9",
   "metadata": {},
   "outputs": [
    {
     "name": "stderr",
     "output_type": "stream",
     "text": [
      "Missing kinematics!\n"
     ]
    },
    {
     "data": {
      "text/plain": [
       "Twist2((0.000000, 0.000000), 0.000000, frame=Frame.absolute)"
      ]
     },
     "execution_count": 3,
     "metadata": {},
     "output_type": "execute_result"
    }
   ],
   "source": [
    "behavior.compute_cmd(0.1)"
   ]
  },
  {
   "cell_type": "code",
   "execution_count": 12,
   "id": "2c8a0081-2358-45ed-bb6c-5d6fe75a372a",
   "metadata": {},
   "outputs": [
    {
     "data": {
      "text/plain": [
       "<navground.sim._navground_sim.Scenario at 0x10a7b1930>"
      ]
     },
     "execution_count": 12,
     "metadata": {},
     "output_type": "execute_result"
    }
   ],
   "source": [
    "scenario = sim.load_scenario(\"\"\"\n",
    "groups:\n",
    "  -\n",
    "    type: thymio\n",
    "    number: 2\n",
    "    behavior:\n",
    "      optimal_speed: [0.12, 0.2]\n",
    "      banana: 1\n",
    "\"\"\")\n",
    "scenario"
   ]
  },
  {
   "cell_type": "code",
   "execution_count": 13,
   "id": "0cd89cb3-a951-4419-a14c-4f64aa1dbc85",
   "metadata": {},
   "outputs": [
    {
     "name": "stdout",
     "output_type": "stream",
     "text": [
      "obstacles:\n",
      "  []\n",
      "walls:\n",
      "  []\n",
      "groups:\n",
      "  - behavior:\n",
      "      optimal_speed:\n",
      "        - 0.12\n",
      "        - 0.20000000000000001\n",
      "      banana: 1\n",
      "    number: 2\n",
      "    type: thymio\n"
     ]
    },
    {
     "name": "stderr",
     "output_type": "stream",
     "text": [
      " ? 1\n"
     ]
    }
   ],
   "source": [
    "print(sim.dump(scenario))"
   ]
  },
  {
   "cell_type": "code",
   "execution_count": 6,
   "id": "16abd5b6-3d3f-4e03-9ea8-81dc515c90d2",
   "metadata": {},
   "outputs": [],
   "source": [
    "world = sim.World()\n",
    "scenario.init_world(world)"
   ]
  },
  {
   "cell_type": "code",
   "execution_count": 7,
   "id": "bf6f3d99-67f4-4ed3-815a-de3a3a19a7ba",
   "metadata": {},
   "outputs": [
    {
     "name": "stdout",
     "output_type": "stream",
     "text": [
      "obstacles:\n",
      "  []\n",
      "walls:\n",
      "  []\n",
      "agents:\n",
      "  - behavior:\n",
      "      optimal_speed: 0.12\n",
      "      optimal_angular_speed: 0\n",
      "      rotation_tau: 0.5\n",
      "      safety_margin: 0\n",
      "      horizon: 5\n",
      "      radius: 0\n",
      "      heading: velocity\n",
      "      social_margin:\n",
      "        modulation:\n",
      "          type: constant\n",
      "        default: 0\n",
      "    position:\n",
      "      - 0\n",
      "      - 0\n",
      "    orientation: 0\n",
      "    velocity:\n",
      "      - 0\n",
      "      - 0\n",
      "    angular_speed: 0\n",
      "    radius: 0\n",
      "    control_period: 0\n",
      "    type: thymio\n",
      "    color: \"\"\n",
      "    id: 0\n",
      "    uid: 0\n",
      "  - behavior:\n",
      "      optimal_speed: 0.20000000000000001\n",
      "      optimal_angular_speed: 0\n",
      "      rotation_tau: 0.5\n",
      "      safety_margin: 0\n",
      "      horizon: 5\n",
      "      radius: 0\n",
      "      heading: velocity\n",
      "      social_margin:\n",
      "        modulation:\n",
      "          type: constant\n",
      "        default: 0\n",
      "    position:\n",
      "      - 0\n",
      "      - 0\n",
      "    orientation: 0\n",
      "    velocity:\n",
      "      - 0\n",
      "      - 0\n",
      "    angular_speed: 0\n",
      "    radius: 0\n",
      "    control_period: 0\n",
      "    type: thymio\n",
      "    color: \"\"\n",
      "    id: 0\n",
      "    uid: 1\n"
     ]
    }
   ],
   "source": [
    "print(sim.dump(world))"
   ]
  },
  {
   "cell_type": "code",
   "execution_count": null,
   "id": "9ad30d6a-7e93-462e-9956-e0da95b4c54e",
   "metadata": {},
   "outputs": [],
   "source": []
  }
 ],
 "metadata": {
  "kernelspec": {
   "display_name": "Python 3 (ipykernel)",
   "language": "python",
   "name": "python3"
  },
  "language_info": {
   "codemirror_mode": {
    "name": "ipython",
    "version": 3
   },
   "file_extension": ".py",
   "mimetype": "text/x-python",
   "name": "python",
   "nbconvert_exporter": "python",
   "pygments_lexer": "ipython3",
   "version": "3.12.4"
  }
 },
 "nbformat": 4,
 "nbformat_minor": 5
}
