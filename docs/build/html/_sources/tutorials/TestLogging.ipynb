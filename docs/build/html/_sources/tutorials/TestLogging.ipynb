{
 "cells": [
  {
   "cell_type": "markdown",
   "id": "6b92c7d8-6af2-41c3-af93-ff84f3c1d998",
   "metadata": {},
   "source": [
    "TODOs\n",
    "- [x] begin: text infos\n",
    "- [x] end: eval, ignoring log_*_interval\n",
    "- [x] begin: hparams\n",
    "- [ ] adapt to use in imitation\n",
    "- [x] option to dump in sync with logging\n",
    "- [x] begin: graph\n",
    "- [ ] network (just use eval callback or CheckpointCallback)"
   ]
  },
  {
   "cell_type": "code",
   "execution_count": 12,
   "id": "bb5c6adf-92e1-466e-ae09-034a529b10fa",
   "metadata": {},
   "outputs": [
    {
     "name": "stdout",
     "output_type": "stream",
     "text": [
      "The autoreload extension is already loaded. To reload it, use:\n",
      "  %reload_ext autoreload\n"
     ]
    }
   ],
   "source": [
    "%load_ext autoreload\n",
    "%autoreload 2"
   ]
  },
  {
   "cell_type": "code",
   "execution_count": 13,
   "id": "6a1e16a4-6243-41ab-9f3f-44ef930fba23",
   "metadata": {},
   "outputs": [],
   "source": [
    "import numpy as np\n",
    "from navground import core, sim\n",
    "from navground_learning.scenarios.corridor_with_obstacle import CorridorWithObstacle"
   ]
  },
  {
   "cell_type": "code",
   "execution_count": 14,
   "id": "65231d8a-08c3-4f2e-856e-86d34bd6576c",
   "metadata": {},
   "outputs": [],
   "source": [
    "# import datasets.utils\n",
    "# import tqdm.autonotebook\n",
    "# import imitation.algorithms.bc\n",
    "\n",
    "# datasets.utils.tqdm = tqdm.autonotebook.tqdm\n",
    "# imitation.algorithms.bc.tqdm = tqdm.autonotebook\n",
    "# datasets.utils.disable_progress_bar()"
   ]
  },
  {
   "cell_type": "code",
   "execution_count": 15,
   "id": "c645abc0-2c29-4214-a443-a74d0daeedc4",
   "metadata": {},
   "outputs": [],
   "source": [
    "import numpy as np\n",
    "import gymnasium as gym\n",
    "from navground import core, sim\n",
    "from navground_learning.scenarios.corridor_with_obstacle import CorridorWithObstacle\n",
    "from navground_learning.utils import GymAgentConfig\n",
    "from navground_learning.env import SocialReward\n",
    "\n",
    "scenario = sim.load_scenario(\"\"\"\n",
    "type: CorridorWithObstacle\n",
    "length: 1.0\n",
    "width: 1.0\n",
    "min_radius: 0.2\n",
    "max_radius: 0.2\n",
    "groups:\n",
    "  -\n",
    "    type: thymio\n",
    "    number: 1\n",
    "    radius: 0.08\n",
    "    control_period: 0.05\n",
    "    color: gold\n",
    "    kinematics:\n",
    "      type: 2WDiff\n",
    "      wheel_axis: 0.094\n",
    "      max_speed: 0.12\n",
    "    behavior:\n",
    "      type: HL\n",
    "      optimal_speed: 0.12\n",
    "      horizon: 10\n",
    "      tau: 0.25\n",
    "      eta: 0.5\n",
    "      safety_margin: 0.05\n",
    "      barrier_angle: 1.0\n",
    "    state_estimation:\n",
    "      type: Bounded\n",
    "      range: 1.0\n",
    "      update_static_obstacles: true\n",
    "\"\"\")\n",
    "\n",
    "sensor = sim.load_state_estimation(\"\"\"\n",
    "type: Combination\n",
    "sensors:\n",
    "  - type: Boundary\n",
    "    min_y: 0\n",
    "    max_y: 1\n",
    "    range: 1\n",
    "  - type: Discs\n",
    "    number: 1\n",
    "    range: 1\n",
    "    max_speed: 0.0\n",
    "    max_radius: 0.0\n",
    "    include_valid: false\n",
    "\"\"\")\n",
    "\n",
    "\n",
    "duration = 40.0\n",
    "time_step = 0.1\n",
    "\n",
    "config = GymAgentConfig(include_target_distance=False, include_velocity=True,\n",
    "                        include_angular_speed=True, max_acceleration=1.0, \n",
    "                        max_angular_acceleration=10.0, use_acceleration_action=True,\n",
    "                        flat=True)\n",
    "\n",
    "# we do not penalize small safety_margin violations\n",
    "env = gym.make('navground', \n",
    "    scenario=scenario,\n",
    "    sensor=sensor,\n",
    "    config=config,\n",
    "    time_step=time_step,\n",
    "    max_duration=duration,\n",
    "    reward=SocialReward(safety_margin=0.04))\n"
   ]
  },
  {
   "cell_type": "markdown",
   "id": "aadbee43-8324-4b08-aed4-ff3bf8fbc79e",
   "metadata": {},
   "source": [
    "We define a functions to plot and display runs when the agents follow a ML policy"
   ]
  },
  {
   "cell_type": "markdown",
   "id": "a9a1fb4f-04b1-4421-86cc-965e152aa4db",
   "metadata": {},
   "source": [
    "## Reinforcement learning with SAC"
   ]
  },
  {
   "cell_type": "code",
   "execution_count": 16,
   "id": "cd73c11e-47d5-4872-b930-8ac8f47ef417",
   "metadata": {},
   "outputs": [],
   "source": [
    "from stable_baselines3 import SAC\n",
    "from stable_baselines3.common.logger import configure\n",
    "\n",
    "\n",
    "logs = \"logs/test_log/SAC13\"\n",
    "model = SAC(\"MlpPolicy\", env, policy_kwargs={'net_arch': [128, 128]}) #, train_freq=(10, \"step\"))\n",
    "model.set_logger(configure(logs, [\"csv\", \"tensorboard\"]))"
   ]
  },
  {
   "cell_type": "code",
   "execution_count": 17,
   "id": "e8777ae3-f4ec-4bce-9753-d76ff3000915",
   "metadata": {},
   "outputs": [],
   "source": [
    "# model.policy.predict?? "
   ]
  },
  {
   "cell_type": "code",
   "execution_count": 18,
   "id": "c1d8f9de-bfd8-4966-8a53-4b5feae7c4a4",
   "metadata": {},
   "outputs": [],
   "source": [
    "from stable_baselines3.common.callbacks import CheckpointCallback, CallbackList"
   ]
  },
  {
   "cell_type": "code",
   "execution_count": 19,
   "id": "1aff0fdf-a611-451a-8aa7-6460d9faddbd",
   "metadata": {},
   "outputs": [],
   "source": [
    "from navground_learning.logging import log_env, log_yaml, LogTrajectoriesCallback, TrajectoryPlotConfig, get_tb_logger, VideoConfig\n",
    "import torch as th\n",
    "\n",
    "\n",
    "tc = TrajectoryPlotConfig(enabled=True, number=4, columns=4, color='blue', step=30, width=10)\n",
    "vc = VideoConfig(enabled=False, fps=30, factor=10) \n",
    "cb = LogTrajectoriesCallback(trajectory_plot_config=tc, log_step_interval=1_000, video_config=vc, episodes=10,\n",
    "                             hparams={'net_arch':  th.Tensor(model.policy_kwargs['net_arch']),\n",
    "                                      'net_size':  model.policy_kwargs['net_arch'][0]}, \n",
    "                             data={\"policy_kwargs\": model.policy_kwargs}, log_graph=True)"
   ]
  },
  {
   "cell_type": "code",
   "execution_count": 20,
   "id": "ca00fc8f-9b24-44cf-b4a3-767dad6d5a87",
   "metadata": {},
   "outputs": [],
   "source": [
    "# writer = get_tb_logger(model.logger).writer\n",
    "# log_env(writer, model.get_env().envs[0].unwrapped)\n",
    "# log_yaml(writer, \"policy_kwargs\", model.policy_kwargs)"
   ]
  },
  {
   "cell_type": "code",
   "execution_count": 25,
   "id": "d14f94f5-e355-465f-8f07-41ec89a9e02d",
   "metadata": {},
   "outputs": [
    {
     "name": "stdout",
     "output_type": "stream",
     "text": [
      "Training took  19 seconds\n"
     ]
    },
    {
     "data": {
      "image/png": "[encoded data removed]",
      "text/plain": [
       "<Figure size 1000x125 with 4 Axes>"
      ]
     },
     "metadata": {},
     "output_type": "display_data"
    },
    {
     "data": {
      "image/png": "[encoded data removed]",
      "text/plain": [
       "<Figure size 1000x125 with 4 Axes>"
      ]
     },
     "metadata": {},
     "output_type": "display_data"
    }
   ],
   "source": [
    "import time\n",
    "\n",
    "\n",
    "checkpoint_callback = CheckpointCallback(\n",
    "  save_freq=10000,\n",
    "  save_path=logs,\n",
    "  name_prefix=\"checkpoints\",\n",
    ")\n",
    "\n",
    "cb = CallbackList([checkpoint_callback, cb])\n",
    "\n",
    "\n",
    "start = time.time()\n",
    "model.learn(total_timesteps=5_000, progress_bar=False, tb_log_name=\"SAC\", callback=cb, reset_num_timesteps=False);\n",
    "print(f'Training took {time.time() - start: .0f} seconds')"
   ]
  },
  {
   "cell_type": "code",
   "execution_count": 26,
   "id": "0787f496-6cb1-4c1f-a850-4106505d3eb0",
   "metadata": {},
   "outputs": [
    {
     "data": {
      "text/plain": [
       "5000"
      ]
     },
     "execution_count": 26,
     "metadata": {},
     "output_type": "execute_result"
    }
   ],
   "source": [
    "model.num_timesteps"
   ]
  },
  {
   "cell_type": "code",
   "execution_count": 41,
   "id": "151857a5-bd48-4fd9-8ccc-4c2644900a23",
   "metadata": {},
   "outputs": [
    {
     "data": {
      "text/plain": [
       "\u001b[0;31mSignature:\u001b[0m \u001b[0mmodel\u001b[0m\u001b[0;34m.\u001b[0m\u001b[0mlogger\u001b[0m\u001b[0;34m.\u001b[0m\u001b[0mdump\u001b[0m\u001b[0;34m(\u001b[0m\u001b[0mstep\u001b[0m\u001b[0;34m:\u001b[0m \u001b[0mint\u001b[0m \u001b[0;34m=\u001b[0m \u001b[0;36m0\u001b[0m\u001b[0;34m)\u001b[0m \u001b[0;34m->\u001b[0m \u001b[0;32mNone\u001b[0m\u001b[0;34m\u001b[0m\u001b[0;34m\u001b[0m\u001b[0m\n",
       "\u001b[0;31mSource:\u001b[0m   \n",
       "    \u001b[0;32mdef\u001b[0m \u001b[0mdump\u001b[0m\u001b[0;34m(\u001b[0m\u001b[0mself\u001b[0m\u001b[0;34m,\u001b[0m \u001b[0mstep\u001b[0m\u001b[0;34m:\u001b[0m \u001b[0mint\u001b[0m \u001b[0;34m=\u001b[0m \u001b[0;36m0\u001b[0m\u001b[0;34m)\u001b[0m \u001b[0;34m->\u001b[0m \u001b[0;32mNone\u001b[0m\u001b[0;34m:\u001b[0m\u001b[0;34m\u001b[0m\n",
       "\u001b[0;34m\u001b[0m        \u001b[0;34m\"\"\"\u001b[0m\n",
       "\u001b[0;34m        Write all of the diagnostics from the current iteration\u001b[0m\n",
       "\u001b[0;34m        \"\"\"\u001b[0m\u001b[0;34m\u001b[0m\n",
       "\u001b[0;34m\u001b[0m        \u001b[0;32mif\u001b[0m \u001b[0mself\u001b[0m\u001b[0;34m.\u001b[0m\u001b[0mlevel\u001b[0m \u001b[0;34m==\u001b[0m \u001b[0mDISABLED\u001b[0m\u001b[0;34m:\u001b[0m\u001b[0;34m\u001b[0m\n",
       "\u001b[0;34m\u001b[0m            \u001b[0;32mreturn\u001b[0m\u001b[0;34m\u001b[0m\n",
       "\u001b[0;34m\u001b[0m        \u001b[0;32mfor\u001b[0m \u001b[0m_format\u001b[0m \u001b[0;32min\u001b[0m \u001b[0mself\u001b[0m\u001b[0;34m.\u001b[0m\u001b[0moutput_formats\u001b[0m\u001b[0;34m:\u001b[0m\u001b[0;34m\u001b[0m\n",
       "\u001b[0;34m\u001b[0m            \u001b[0;32mif\u001b[0m \u001b[0misinstance\u001b[0m\u001b[0;34m(\u001b[0m\u001b[0m_format\u001b[0m\u001b[0;34m,\u001b[0m \u001b[0mKVWriter\u001b[0m\u001b[0;34m)\u001b[0m\u001b[0;34m:\u001b[0m\u001b[0;34m\u001b[0m\n",
       "\u001b[0;34m\u001b[0m                \u001b[0m_format\u001b[0m\u001b[0;34m.\u001b[0m\u001b[0mwrite\u001b[0m\u001b[0;34m(\u001b[0m\u001b[0mself\u001b[0m\u001b[0;34m.\u001b[0m\u001b[0mname_to_value\u001b[0m\u001b[0;34m,\u001b[0m \u001b[0mself\u001b[0m\u001b[0;34m.\u001b[0m\u001b[0mname_to_excluded\u001b[0m\u001b[0;34m,\u001b[0m \u001b[0mstep\u001b[0m\u001b[0;34m)\u001b[0m\u001b[0;34m\u001b[0m\n",
       "\u001b[0;34m\u001b[0m\u001b[0;34m\u001b[0m\n",
       "\u001b[0;34m\u001b[0m        \u001b[0mself\u001b[0m\u001b[0;34m.\u001b[0m\u001b[0mname_to_value\u001b[0m\u001b[0;34m.\u001b[0m\u001b[0mclear\u001b[0m\u001b[0;34m(\u001b[0m\u001b[0;34m)\u001b[0m\u001b[0;34m\u001b[0m\n",
       "\u001b[0;34m\u001b[0m        \u001b[0mself\u001b[0m\u001b[0;34m.\u001b[0m\u001b[0mname_to_count\u001b[0m\u001b[0;34m.\u001b[0m\u001b[0mclear\u001b[0m\u001b[0;34m(\u001b[0m\u001b[0;34m)\u001b[0m\u001b[0;34m\u001b[0m\n",
       "\u001b[0;34m\u001b[0m        \u001b[0mself\u001b[0m\u001b[0;34m.\u001b[0m\u001b[0mname_to_excluded\u001b[0m\u001b[0;34m.\u001b[0m\u001b[0mclear\u001b[0m\u001b[0;34m(\u001b[0m\u001b[0;34m)\u001b[0m\u001b[0;34m\u001b[0m\u001b[0;34m\u001b[0m\u001b[0m\n",
       "\u001b[0;31mFile:\u001b[0m      ~/Dev/venv/ros_jazzy/lib/python3.12/site-packages/stable_baselines3/common/logger.py\n",
       "\u001b[0;31mType:\u001b[0m      method"
      ]
     },
     "metadata": {},
     "output_type": "display_data"
    }
   ],
   "source": [
    "model.logger.dump??"
   ]
  },
  {
   "cell_type": "code",
   "execution_count": null,
   "id": "311709d0-f199-4f20-8117-91adb076b6fc",
   "metadata": {},
   "outputs": [],
   "source": [
    "# import torch as th\n",
    "\n",
    "# th.Tensor(model.policy_kwargs['net_arch'])"
   ]
  },
  {
   "cell_type": "markdown",
   "id": "9996bc78-4744-415c-a1b9-fd7ee1b27c26",
   "metadata": {},
   "source": [
    "It learns at good performing policy in about 50000 steps. It takes about 5x longer compared to Dagger but the policy is also better, especialy the worst case."
   ]
  },
  {
   "cell_type": "code",
   "execution_count": null,
   "id": "73da2d0d-c38b-48bf-8434-87947c2871ff",
   "metadata": {},
   "outputs": [],
   "source": [
    "# import torch\n",
    "\n",
    "# x = env.observation_space.sample()\n",
    "# x = np.expand_dims(x, axis=0)\n",
    "# x = torch.from_numpy(x)\n",
    "# writer.add_graph(model.policy.actor, x, use_strict_trace=True, verbose=True)"
   ]
  },
  {
   "cell_type": "code",
   "execution_count": null,
   "id": "bbd24e64-7695-431c-be3a-bd43382a0f29",
   "metadata": {},
   "outputs": [],
   "source": [
    "# writer.flush()"
   ]
  },
  {
   "cell_type": "code",
   "execution_count": null,
   "id": "b8d30137-26ed-46b2-959a-99667236b6ea",
   "metadata": {},
   "outputs": [],
   "source": [
    "# !pip install onnx"
   ]
  },
  {
   "cell_type": "code",
   "execution_count": null,
   "id": "2d4b52e0-180e-4895-b672-8281ff618f73",
   "metadata": {},
   "outputs": [],
   "source": [
    "# class OnnxablePolicy(torch.nn.Module):\n",
    "#     def __init__(self, actor: torch.nn.Module):\n",
    "#         super().__init__()\n",
    "#         self.actor = actor\n",
    "\n",
    "#     def forward(self, observation: torch.Tensor) -> torch.Tensor:\n",
    "#         # NOTE: You may have to postprocess (unnormalize) actions\n",
    "#         # to the correct bounds (see commented code below)\n",
    "#         return self.actor(observation, deterministic=True)\n",
    "\n",
    "# onnxable_model = OnnxablePolicy(model.policy.actor)\n",
    "\n",
    "# torch.onnx.export(\n",
    "#     onnxable_model,\n",
    "#     x,\n",
    "#     \"my_sac_actor.onnx\",\n",
    "#     opset_version=17,\n",
    "#     input_names=[\"input\"],\n",
    "# )"
   ]
  },
  {
   "cell_type": "code",
   "execution_count": null,
   "id": "ea14dbd1-3315-4819-8e25-a66a28ef6508",
   "metadata": {},
   "outputs": [],
   "source": [
    "# writer.add_onnx_graph('my_sac_actor.onnx')\n",
    "# writer.flush()"
   ]
  },
  {
   "cell_type": "code",
   "execution_count": null,
   "id": "5c757fb1-d48c-47a8-a441-7ced077b0791",
   "metadata": {},
   "outputs": [],
   "source": []
  },
  {
   "cell_type": "code",
   "execution_count": null,
   "id": "8f3dbf3b-49d0-4817-848e-3a7d84e30ee6",
   "metadata": {},
   "outputs": [],
   "source": [
    "# from stable_baselines3.common.logger import HParam\n",
    "\n",
    "# hparam_dict = {\n",
    "#     \"algorithm1\": \"TEST\",\n",
    "#     \"learning rate1\": 0.1,\n",
    "#     \"size1\": 1}\n",
    "# metric_dict = {\n",
    "#     \"eval/reward/mean\": 0.0,\n",
    "#     \"eval/reward/min\": 0.0}\n",
    "# model.logger.record(\n",
    "#     \"hparams\",\n",
    "#     HParam(hparam_dict, metric_dict),\n",
    "#     exclude=(\"stdout\", \"log\", \"json\", \"csv\"))"
   ]
  },
  {
   "cell_type": "code",
   "execution_count": null,
   "id": "7e6920f6-a11f-4173-9df6-3da55a21d343",
   "metadata": {},
   "outputs": [],
   "source": [
    "# writer.flush()"
   ]
  },
  {
   "cell_type": "code",
   "execution_count": null,
   "id": "ec7bc657-6c23-4958-b15f-f476020f3cfa",
   "metadata": {},
   "outputs": [],
   "source": [
    "# exp = sim.Experiment()"
   ]
  },
  {
   "cell_type": "code",
   "execution_count": null,
   "id": "710813c3-b8af-4a15-bd22-d6360984f63f",
   "metadata": {},
   "outputs": [],
   "source": [
    "# exp.remove_all_runs()"
   ]
  },
  {
   "cell_type": "code",
   "execution_count": null,
   "id": "60196f90-01c6-4164-9ef6-5a524b208a24",
   "metadata": {},
   "outputs": [],
   "source": [
    "import pandas as pd\n",
    "\n",
    "df = pd.read_csv(f'{logs}/progress.csv')\n",
    "df.plot(y='rollout/ep_rew_mean', x='time/total_timesteps');"
   ]
  },
  {
   "cell_type": "code",
   "execution_count": null,
   "id": "fd09609f-e329-4c96-bd71-5d085ace981b",
   "metadata": {},
   "outputs": [],
   "source": [
    "plot_test_runs(policy=model.policy, seed=123, color='blue') "
   ]
  },
  {
   "cell_type": "code",
   "execution_count": null,
   "id": "7f045de6-ad57-4421-8e97-bbc813816871",
   "metadata": {},
   "outputs": [],
   "source": [
    "from stable_baselines3.common.evaluation import evaluate_policy\n",
    "\n",
    "sac_rewards, steps = evaluate_policy(model.policy, test_venv, 1000, return_episode_rewards=True)\n",
    "np.min(sac_rewards),  np.mean(sac_rewards), np.median(sac_rewards), np.max(sac_rewards)"
   ]
  },
  {
   "cell_type": "code",
   "execution_count": null,
   "id": "63ff57dd-cf82-4b56-9d03-cbc38789b856",
   "metadata": {},
   "outputs": [],
   "source": [
    "plt.hist(sac_rewards, bins=10, density=True);\n",
    "plt.xlabel('reward')\n",
    "plt.ylabel('probability');\n",
    "plt.title(\"Policy trained with SAC\");"
   ]
  },
  {
   "cell_type": "code",
   "execution_count": null,
   "id": "f6c455a5-a736-4720-84e4-994dcf942e2e",
   "metadata": {},
   "outputs": [],
   "source": [
    "model.save(f\"{logs}/model\")"
   ]
  },
  {
   "cell_type": "markdown",
   "id": "ff786dae-ec2e-442c-95b6-5d27bd605bfc",
   "metadata": {},
   "source": [
    "## Comparision with HL"
   ]
  },
  {
   "cell_type": "code",
   "execution_count": null,
   "id": "e465f746-2646-4875-91e0-a603ecc47b61",
   "metadata": {},
   "outputs": [],
   "source": [
    "hl_rewards = evaluate_expert(env, runs=1000, seed=0)"
   ]
  },
  {
   "cell_type": "code",
   "execution_count": null,
   "id": "de39e6f2-f230-4ea8-ba9e-0e204df2226e",
   "metadata": {},
   "outputs": [],
   "source": [
    "plt.hist(sac_rewards, bins=np.linspace(np.quantile(sac_rewards, 0.02), np.quantile(sac_rewards, 0.98), 10), density=True, label=\"SAC\", alpha=0.5)\n",
    "plt.hist(bc_rewards, bins=np.linspace(np.quantile(bc_rewards, 0.02), np.quantile(bc_rewards, 0.98), 30), density=True, label=\"BC\", alpha=0.5)\n",
    "plt.hist(dagger_rewards, bins=np.linspace(np.quantile(dagger_rewards, 0.02), np.quantile(dagger_rewards, 0.98), 10), density=True, label=\"DAgger\", alpha=0.5)\n",
    "plt.hist(hl_rewards, bins=np.linspace(np.quantile(hl_rewards, 0.02), np.quantile(hl_rewards, 0.98), 10), density=True, label=\"HL\", alpha=0.5)\n",
    "plt.xlabel('reward')\n",
    "plt.ylabel('probability');\n",
    "plt.xlim(-50, 0)\n",
    "plt.legend();"
   ]
  },
  {
   "cell_type": "code",
   "execution_count": null,
   "id": "6122d4fa-e172-4015-8f9e-1729ca717296",
   "metadata": {},
   "outputs": [],
   "source": []
  },
  {
   "cell_type": "code",
   "execution_count": null,
   "id": "f75a38f2-1201-4489-93a2-a6f660418b1d",
   "metadata": {},
   "outputs": [],
   "source": []
  },
  {
   "cell_type": "code",
   "execution_count": null,
   "id": "ecec0ed2-ee90-4b1a-9049-18df16577591",
   "metadata": {},
   "outputs": [],
   "source": []
  },
  {
   "cell_type": "code",
   "execution_count": null,
   "id": "2420e94b-56e0-4db4-bba1-13f08069a6c8",
   "metadata": {},
   "outputs": [],
   "source": []
  },
  {
   "cell_type": "code",
   "execution_count": null,
   "id": "fb20a67a-d90a-4f90-9544-30ec6a00fa2f",
   "metadata": {},
   "outputs": [],
   "source": [
    "plot_comparison_test_runs(policies=((bc_trainer.policy, 'orange', 'BC'), \n",
    "                                    (dagger_trainer.policy, 'green', 'DAgger'), \n",
    "                                    (model.policy, 'blue', 'SAC'),\n",
    "                                    (None, 'red', 'Expert')), seed=123, step=10, cols=4, rows=4)\n",
    "plt.legend(bbox_to_anchor=(-.75, 0), ncols=4)"
   ]
  },
  {
   "cell_type": "code",
   "execution_count": null,
   "id": "d49d758d-8535-46fa-9abc-c5aa590e2bdd",
   "metadata": {},
   "outputs": [],
   "source": [
    "f = model.logger.output_formats[0]"
   ]
  },
  {
   "cell_type": "code",
   "execution_count": null,
   "id": "a7a65f81-e667-4f08-a475-68363566abcd",
   "metadata": {},
   "outputs": [],
   "source": [
    "fs = [f for f in model.logger.output_formats if isinstance(f, sb3.common.logger.TensorBoardOutputFormat)]"
   ]
  },
  {
   "cell_type": "code",
   "execution_count": null,
   "id": "3168c871-5c14-43e3-8862-f6ac712d966c",
   "metadata": {},
   "outputs": [],
   "source": [
    "f = fs[0]"
   ]
  },
  {
   "cell_type": "code",
   "execution_count": null,
   "id": "5be06ae3-37a5-4d84-aede-eeab4c80fb1f",
   "metadata": {},
   "outputs": [],
   "source": [
    "from torch.utils.tensorboard.writer import SummaryWriter"
   ]
  },
  {
   "cell_type": "code",
   "execution_count": null,
   "id": "8130b680-a526-4e4a-a6f3-e44eb9d31bcd",
   "metadata": {},
   "outputs": [],
   "source": [
    "import stable_baselines3 as sb3"
   ]
  },
  {
   "cell_type": "code",
   "execution_count": null,
   "id": "0ec65ae8-ba92-4170-ac32-b84268075ec8",
   "metadata": {},
   "outputs": [],
   "source": []
  },
  {
   "cell_type": "code",
   "execution_count": null,
   "id": "accf7f91-3091-4597-bed8-a9c1e8a1e8f7",
   "metadata": {},
   "outputs": [],
   "source": []
  },
  {
   "cell_type": "code",
   "execution_count": null,
   "id": "371dc866-d97f-4fb2-a3db-3cf366e8f053",
   "metadata": {},
   "outputs": [],
   "source": []
  },
  {
   "cell_type": "code",
   "execution_count": null,
   "id": "9384a783-a4e0-40ec-b8d4-1803d5b0fd7b",
   "metadata": {},
   "outputs": [],
   "source": []
  },
  {
   "cell_type": "code",
   "execution_count": null,
   "id": "a9a81de6-87a7-413c-8853-b04fc2b4dfd1",
   "metadata": {},
   "outputs": [],
   "source": [
    "1"
   ]
  },
  {
   "cell_type": "code",
   "execution_count": null,
   "id": "a6a20e24-fb04-46d4-b828-7c15f3413c00",
   "metadata": {},
   "outputs": [],
   "source": []
  },
  {
   "cell_type": "code",
   "execution_count": null,
   "id": "2ead259a-f7c4-4ec3-9a93-ce7b75399fff",
   "metadata": {},
   "outputs": [],
   "source": [
    "2"
   ]
  },
  {
   "cell_type": "code",
   "execution_count": null,
   "id": "7e79e781-c87b-4726-b09b-896ac16ab3c4",
   "metadata": {},
   "outputs": [],
   "source": []
  },
  {
   "cell_type": "code",
   "execution_count": null,
   "id": "a4b99b70-31d5-46c0-b959-72213af05226",
   "metadata": {},
   "outputs": [],
   "source": []
  }
 ],
 "metadata": {
  "kernelspec": {
   "display_name": "Python 3 (ipykernel)",
   "language": "python",
   "name": "python3"
  },
  "language_info": {
   "codemirror_mode": {
    "name": "ipython",
    "version": 3
   },
   "file_extension": ".py",
   "mimetype": "text/x-python",
   "name": "python",
   "nbconvert_exporter": "python",
   "pygments_lexer": "ipython3",
   "version": "3.12.3"
  }
 },
 "nbformat": 4,
 "nbformat_minor": 5
}
