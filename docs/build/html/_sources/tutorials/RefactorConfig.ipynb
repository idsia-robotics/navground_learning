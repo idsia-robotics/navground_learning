{
 "cells": [
  {
   "cell_type": "code",
   "execution_count": 2,
   "id": "8d4f321d-4307-4d50-b4e5-2df631f262db",
   "metadata": {},
   "outputs": [],
   "source": [
    "from navground import core, sim\n",
    "from navground_learning import ObservationConfig, ControlActionConfig, GymAgent, TuningActionConfig\n",
    "import numpy as np"
   ]
  },
  {
   "cell_type": "code",
   "execution_count": 3,
   "id": "50c12daa-80c5-47cf-8ee4-0a7682622ab6",
   "metadata": {},
   "outputs": [],
   "source": [
    "behavior = core.behaviors.HLBehavior(kinematics=core.kinematics.OmnidirectionalKinematics(1.0, 1.0), radius=1.0)\n",
    "sensor = sim.state_estimations.DiscsStateEstimation()"
   ]
  },
  {
   "cell_type": "code",
   "execution_count": 4,
   "id": "f519625f-5d6e-475a-a22c-309d12b94126",
   "metadata": {},
   "outputs": [
    {
     "data": {
      "text/plain": [
       "ObservationConfig(dtype='', max_speed=inf, max_angular_speed=inf, dof=None, flat=False, history=1, include_target_distance=False, max_target_distance=inf, include_target_direction=True, include_velocity=False, include_angular_speed=False, include_radius=False, max_radius=inf)"
      ]
     },
     "execution_count": 4,
     "metadata": {},
     "output_type": "execute_result"
    }
   ],
   "source": [
    "observation_config = ObservationConfig(include_target_distance=False)\n",
    "observation_config"
   ]
  },
  {
   "cell_type": "code",
   "execution_count": 5,
   "id": "9a18133e-dc4c-4943-8f0e-a1ac6168b86f",
   "metadata": {},
   "outputs": [
    {
     "data": {
      "text/plain": [
       "True"
      ]
     },
     "execution_count": 5,
     "metadata": {},
     "output_type": "execute_result"
    }
   ],
   "source": [
    "observation_config.is_configured"
   ]
  },
  {
   "cell_type": "code",
   "execution_count": 6,
   "id": "6a2438c1-37d7-46d2-a94a-9f33c751f019",
   "metadata": {},
   "outputs": [
    {
     "data": {
      "text/plain": [
       "ControlActionConfig(dtype='', max_speed=1, max_angular_speed=inf, dof=3, max_acceleration=inf, max_angular_acceleration=inf, use_acceleration_action=False, fix_orientation=True, use_wheels=False, has_wheels=True)"
      ]
     },
     "execution_count": 6,
     "metadata": {},
     "output_type": "execute_result"
    }
   ],
   "source": [
    "action_config = ControlActionConfig(max_speed=1, dof=3, has_wheels=True, fix_orientation=True)\n",
    "action_config"
   ]
  },
  {
   "cell_type": "code",
   "execution_count": 7,
   "id": "b31943ad-7d0f-4b43-a17a-74ad7e628734",
   "metadata": {},
   "outputs": [
    {
     "data": {
      "text/plain": [
       "True"
      ]
     },
     "execution_count": 7,
     "metadata": {},
     "output_type": "execute_result"
    }
   ],
   "source": [
    "action_config.is_configured"
   ]
  },
  {
   "cell_type": "code",
   "execution_count": 8,
   "id": "6f01bc32-5dc9-41ef-a5bb-7b19344aac6c",
   "metadata": {},
   "outputs": [
    {
     "data": {
      "text/plain": [
       "['__annotations__',\n",
       " '__class__',\n",
       " '__dataclass_fields__',\n",
       " '__dataclass_params__',\n",
       " '__delattr__',\n",
       " '__dict__',\n",
       " '__dir__',\n",
       " '__doc__',\n",
       " '__eq__',\n",
       " '__format__',\n",
       " '__ge__',\n",
       " '__getattribute__',\n",
       " '__getstate__',\n",
       " '__gt__',\n",
       " '__hash__',\n",
       " '__init__',\n",
       " '__init_subclass__',\n",
       " '__le__',\n",
       " '__lt__',\n",
       " '__match_args__',\n",
       " '__module__',\n",
       " '__ne__',\n",
       " '__new__',\n",
       " '__post_init__',\n",
       " '__reduce__',\n",
       " '__reduce_ex__',\n",
       " '__repr__',\n",
       " '__setattr__',\n",
       " '__sizeof__',\n",
       " '__str__',\n",
       " '__subclasshook__',\n",
       " '__weakref__',\n",
       " '_add_target',\n",
       " '_dtype',\n",
       " 'asdict',\n",
       " 'configure',\n",
       " 'dof',\n",
       " 'dtype',\n",
       " 'flat',\n",
       " 'get_item_space',\n",
       " 'get_observations',\n",
       " 'get_space',\n",
       " 'history',\n",
       " 'include_angular_speed',\n",
       " 'include_radius',\n",
       " 'include_target',\n",
       " 'include_target_direction',\n",
       " 'include_target_distance',\n",
       " 'include_velocity',\n",
       " 'is_configured',\n",
       " 'max_angular_speed',\n",
       " 'max_radius',\n",
       " 'max_speed',\n",
       " 'max_target_distance',\n",
       " 'should_flatten_observations',\n",
       " 'state_space']"
      ]
     },
     "execution_count": 8,
     "metadata": {},
     "output_type": "execute_result"
    }
   ],
   "source": [
    "dir(observation_config)\n"
   ]
  },
  {
   "cell_type": "code",
   "execution_count": 9,
   "id": "3250595d-d77f-42d2-877b-945c7057c72e",
   "metadata": {},
   "outputs": [],
   "source": [
    "state = core.SensingState()\n",
    "sensor.prepare(state)\n",
    "\n",
    "agent = GymAgent(observation=observation_config, action=action_config, behavior=behavior, state=state)"
   ]
  },
  {
   "cell_type": "code",
   "execution_count": 10,
   "id": "6edbd44d-cd0f-41c7-87d3-5fa497684b79",
   "metadata": {},
   "outputs": [],
   "source": [
    "import dataclasses as dc"
   ]
  },
  {
   "cell_type": "code",
   "execution_count": 11,
   "id": "9329e659-d27c-4fb9-8eeb-daef97bf49c8",
   "metadata": {},
   "outputs": [
    {
     "data": {
      "text/plain": [
       "{'dtype': '',\n",
       " 'max_speed': 1,\n",
       " 'max_angular_speed': 1.0,\n",
       " 'dof': 3,\n",
       " 'max_acceleration': inf,\n",
       " 'max_angular_acceleration': inf,\n",
       " 'use_acceleration_action': False,\n",
       " 'fix_orientation': True,\n",
       " 'use_wheels': False,\n",
       " 'has_wheels': True}"
      ]
     },
     "execution_count": 11,
     "metadata": {},
     "output_type": "execute_result"
    }
   ],
   "source": [
    "dc.asdict(agent.action_config)"
   ]
  },
  {
   "cell_type": "code",
   "execution_count": 12,
   "id": "c7535eec-0194-4124-b6a0-2922b0529f80",
   "metadata": {},
   "outputs": [
    {
     "data": {
      "text/plain": [
       "(Dict('position': Box(-1.0, 1.0, (1, 2), float64), 'radius': Box(0.0, 1.0, (1,), float64), 'valid': MultiBinary((1,)), 'velocity': Box(-1.0, 1.0, (1, 2), float64), 'ego_target_direction': Box(-1.0, 1.0, (2,), float64)),\n",
       " Box(-1.0, 1.0, (2,), float64))"
      ]
     },
     "execution_count": 12,
     "metadata": {},
     "output_type": "execute_result"
    }
   ],
   "source": [
    "agent.observation_space, agent.action_space"
   ]
  },
  {
   "cell_type": "code",
   "execution_count": 13,
   "id": "544c98cb-71d6-4af6-912d-e625a7fe24d7",
   "metadata": {},
   "outputs": [],
   "source": [
    "action = agent.get_action(0.1)"
   ]
  },
  {
   "cell_type": "code",
   "execution_count": 14,
   "id": "e3cbba22-5a77-4b98-9d38-b6a363b6f8f7",
   "metadata": {},
   "outputs": [
    {
     "data": {
      "text/plain": [
       "Twist2((0.000000, 0.000000), 0.000000, frame=Frame.relative)"
      ]
     },
     "execution_count": 14,
     "metadata": {},
     "output_type": "execute_result"
    }
   ],
   "source": [
    "agent.get_cmd_from_action(action, 0.1)"
   ]
  },
  {
   "cell_type": "code",
   "execution_count": 15,
   "id": "fe8d7ede-9e50-43ba-b7ed-0a2d17f02199",
   "metadata": {},
   "outputs": [
    {
     "data": {
      "text/plain": [
       "{'position': array([[0., 0.]]),\n",
       " 'radius': array([0.]),\n",
       " 'valid': array([0], dtype=uint8),\n",
       " 'velocity': array([[0., 0.]])}"
      ]
     },
     "execution_count": 15,
     "metadata": {},
     "output_type": "execute_result"
    }
   ],
   "source": [
    "agent.update_observations()"
   ]
  },
  {
   "cell_type": "code",
   "execution_count": 16,
   "id": "a26d8c39-2e85-44f4-909a-93bf6cfd4b2c",
   "metadata": {},
   "outputs": [],
   "source": [
    "# tuning\n",
    "\n",
    "params = {'tau': {'high': 2.0, 'dtype': float, 'discrete': False},\n",
    "                'optimal_speed': {'high': 1.0, 'dtype': float, 'discrete': False}}\n",
    "action_config = TuningActionConfig(params=params)"
   ]
  },
  {
   "cell_type": "code",
   "execution_count": 17,
   "id": "59117fff-b4cb-4d5d-8b54-69e34dc751dd",
   "metadata": {},
   "outputs": [
    {
     "data": {
      "text/plain": [
       "(Dict('position': Box(-1.0, 1.0, (1, 2), float64), 'radius': Box(0.0, 1.0, (1,), float64), 'valid': MultiBinary((1,)), 'velocity': Box(-1.0, 1.0, (1, 2), float64), 'ego_target_direction': Box(-1.0, 1.0, (2,), float64)),\n",
       " Box(0.0, [1. 2.], (2,), float64))"
      ]
     },
     "execution_count": 17,
     "metadata": {},
     "output_type": "execute_result"
    }
   ],
   "source": [
    "agent = GymAgent(observation=observation_config, action=action_config, behavior=behavior, state=state)\n",
    "agent.observation_space, agent.action_space"
   ]
  },
  {
   "cell_type": "code",
   "execution_count": 18,
   "id": "ea170591-d4ea-4131-b91a-4a83e0526d2f",
   "metadata": {},
   "outputs": [],
   "source": [
    "action = agent.get_action(0.1)"
   ]
  },
  {
   "cell_type": "code",
   "execution_count": 19,
   "id": "1446747c-f84d-49da-a397-459ffdcfa5d5",
   "metadata": {},
   "outputs": [
    {
     "data": {
      "text/plain": [
       "{'optimal_speed': 1.0, 'tau': 0.125}"
      ]
     },
     "execution_count": 19,
     "metadata": {},
     "output_type": "execute_result"
    }
   ],
   "source": [
    "action_config.get_params_from_action(action)"
   ]
  },
  {
   "cell_type": "code",
   "execution_count": 20,
   "id": "795817d8-22dc-4d4a-aeef-2202856fdc97",
   "metadata": {},
   "outputs": [
    {
     "data": {
      "text/plain": [
       "Twist2((0.000000, 0.000000), 0.000000, frame=Frame.absolute)"
      ]
     },
     "execution_count": 20,
     "metadata": {},
     "output_type": "execute_result"
    }
   ],
   "source": [
    "agent.get_cmd_from_action(action, 0.1)"
   ]
  },
  {
   "cell_type": "code",
   "execution_count": 21,
   "id": "00442169-0251-4cbc-8fff-71cad0a9d2ef",
   "metadata": {},
   "outputs": [
    {
     "data": {
      "text/plain": [
       "gymnasium.spaces.dict.Dict"
      ]
     },
     "execution_count": 21,
     "metadata": {},
     "output_type": "execute_result"
    }
   ],
   "source": [
    "import gymnasium as gym\n",
    "\n",
    "gym.spaces.Dict"
   ]
  },
  {
   "cell_type": "code",
   "execution_count": 22,
   "id": "f5c6dc82-6e3d-46f3-983a-d777835be0c8",
   "metadata": {},
   "outputs": [],
   "source": [
    "space = agent.action_space"
   ]
  },
  {
   "cell_type": "code",
   "execution_count": 23,
   "id": "f2151e5e-68b8-4413-9b1f-9092c8ba2fc1",
   "metadata": {},
   "outputs": [
    {
     "ename": "TypeError",
     "evalue": "unhashable type: 'list'",
     "output_type": "error",
     "traceback": [
      "\u001b[0;31m---------------------------------------------------------------------------\u001b[0m",
      "\u001b[0;31mTypeError\u001b[0m                                 Traceback (most recent call last)",
      "Cell \u001b[0;32mIn[23], line 1\u001b[0m\n\u001b[0;32m----> 1\u001b[0m {[\u001b[38;5;241m1\u001b[39m,\u001b[38;5;241m2\u001b[39m]: \u001b[38;5;241m1\u001b[39m}\n",
      "\u001b[0;31mTypeError\u001b[0m: unhashable type: 'list'"
     ]
    }
   ],
   "source": [
    "{[1,2]: 1}"
   ]
  },
  {
   "cell_type": "code",
   "execution_count": null,
   "id": "3fe97d31-cfc1-4b1c-ad10-ceb985db8436",
   "metadata": {},
   "outputs": [],
   "source": [
    "tuple()"
   ]
  },
  {
   "cell_type": "code",
   "execution_count": 24,
   "id": "ab255a43-07ca-43f1-a56e-fac69c77d7d9",
   "metadata": {},
   "outputs": [
    {
     "data": {
      "text/plain": [
       "[9, 8]"
      ]
     },
     "execution_count": 24,
     "metadata": {},
     "output_type": "execute_result"
    }
   ],
   "source": [
    "list(range(10))[slice(-1, -3, -1)]"
   ]
  },
  {
   "cell_type": "code",
   "execution_count": 25,
   "id": "65d4033c-30f9-4727-9be3-897c4fd6ee24",
   "metadata": {},
   "outputs": [],
   "source": [
    "from navground_learning.core import to_list"
   ]
  },
  {
   "cell_type": "code",
   "execution_count": 26,
   "id": "c478fb76-8595-458a-b421-1bdddaac44d5",
   "metadata": {},
   "outputs": [
    {
     "data": {
      "text/plain": [
       "[]"
      ]
     },
     "execution_count": 26,
     "metadata": {},
     "output_type": "execute_result"
    }
   ],
   "source": [
    "to_list(slice(-1, -3, -1), list(range(2, 30)))"
   ]
  },
  {
   "cell_type": "code",
   "execution_count": 27,
   "id": "9465b183-e1fa-4816-afbb-6fd2423e490a",
   "metadata": {},
   "outputs": [
    {
     "data": {
      "text/plain": [
       "[29, 28]"
      ]
     },
     "execution_count": 27,
     "metadata": {},
     "output_type": "execute_result"
    }
   ],
   "source": [
    "list(range(30))[slice(-1, -3, -1)]"
   ]
  },
  {
   "cell_type": "code",
   "execution_count": 28,
   "id": "37d4f707-9736-4ccb-adc9-ef10b3c13fa6",
   "metadata": {},
   "outputs": [
    {
     "ename": "SyntaxError",
     "evalue": "illegal target for annotation (3757894527.py, line 1)",
     "output_type": "error",
     "traceback": [
      "\u001b[0;36m  Cell \u001b[0;32mIn[28], line 1\u001b[0;36m\u001b[0m\n\u001b[0;31m    -1:-3:-1\u001b[0m\n\u001b[0m    ^\u001b[0m\n\u001b[0;31mSyntaxError\u001b[0m\u001b[0;31m:\u001b[0m illegal target for annotation\n"
     ]
    }
   ],
   "source": [
    "-1:-3:-1"
   ]
  },
  {
   "cell_type": "markdown",
   "id": "2a34fe98-d31a-4933-ae3f-2978278c7023",
   "metadata": {},
   "source": [
    "- variable number\n",
    "- more groups"
   ]
  },
  {
   "cell_type": "code",
   "execution_count": 29,
   "id": "e19941ca-75ae-485d-af18-48f7381b808a",
   "metadata": {},
   "outputs": [],
   "source": [
    "indices = slice(-5, -1, 1)"
   ]
  },
  {
   "cell_type": "code",
   "execution_count": 30,
   "id": "b6e3e7a3-0d1e-4de9-a249-0c3b1d7c0442",
   "metadata": {},
   "outputs": [
    {
     "data": {
      "text/plain": [
       "[-5, -4, -3, -2]"
      ]
     },
     "execution_count": 30,
     "metadata": {},
     "output_type": "execute_result"
    }
   ],
   "source": [
    "list(range(indices.start, indices.stop, indices.step or 1))"
   ]
  },
  {
   "cell_type": "code",
   "execution_count": 31,
   "id": "31f289eb-e1b9-487b-bcdc-a8989befff94",
   "metadata": {},
   "outputs": [
    {
     "data": {
      "text/plain": [
       "(-5, -1, 1)"
      ]
     },
     "execution_count": 31,
     "metadata": {},
     "output_type": "execute_result"
    }
   ],
   "source": [
    "indices.start, indices.stop, indices.step"
   ]
  },
  {
   "cell_type": "code",
   "execution_count": 32,
   "id": "565f7ab7-e88b-43aa-af7d-7f73974ebd91",
   "metadata": {},
   "outputs": [],
   "source": [
    "from typing import Literal\n",
    "All = Literal['All']\n",
    "Indices = list[int] | slice | All"
   ]
  },
  {
   "cell_type": "code",
   "execution_count": 33,
   "id": "ae973de4-1a2e-432d-98c6-ad6434b2d9dd",
   "metadata": {},
   "outputs": [
    {
     "data": {
      "text/plain": [
       "['__args__',\n",
       " '__call__',\n",
       " '__class__',\n",
       " '__delattr__',\n",
       " '__dict__',\n",
       " '__dir__',\n",
       " '__doc__',\n",
       " '__eq__',\n",
       " '__format__',\n",
       " '__ge__',\n",
       " '__getattr__',\n",
       " '__getattribute__',\n",
       " '__getitem__',\n",
       " '__getstate__',\n",
       " '__gt__',\n",
       " '__hash__',\n",
       " '__init__',\n",
       " '__init_subclass__',\n",
       " '__instancecheck__',\n",
       " '__iter__',\n",
       " '__le__',\n",
       " '__lt__',\n",
       " '__module__',\n",
       " '__mro_entries__',\n",
       " '__ne__',\n",
       " '__new__',\n",
       " '__or__',\n",
       " '__origin__',\n",
       " '__parameters__',\n",
       " '__reduce__',\n",
       " '__reduce_ex__',\n",
       " '__repr__',\n",
       " '__ror__',\n",
       " '__setattr__',\n",
       " '__sizeof__',\n",
       " '__slots__',\n",
       " '__str__',\n",
       " '__subclasscheck__',\n",
       " '__subclasshook__',\n",
       " '__weakref__',\n",
       " '_determine_new_args',\n",
       " '_getitem',\n",
       " '_inst',\n",
       " '_make_substitution',\n",
       " '_name',\n",
       " 'copy_with']"
      ]
     },
     "execution_count": 33,
     "metadata": {},
     "output_type": "execute_result"
    }
   ],
   "source": [
    "dir(All)"
   ]
  },
  {
   "cell_type": "code",
   "execution_count": 34,
   "id": "7b16adf0-dbc5-4e57-b106-8518955ac4f4",
   "metadata": {},
   "outputs": [
    {
     "data": {
      "text/plain": [
       "TuningActionConfig(params={'tau': {'high': 2.0, 'dtype': <class 'float'>, 'discrete': False}, 'optimal_speed': {'high': 1.0, 'dtype': <class 'float'>, 'discrete': False}})"
      ]
     },
     "execution_count": 34,
     "metadata": {},
     "output_type": "execute_result"
    }
   ],
   "source": [
    "agent.action_config"
   ]
  },
  {
   "cell_type": "code",
   "execution_count": 35,
   "id": "351b19da-85d9-4c4b-965d-403d45de1d03",
   "metadata": {},
   "outputs": [
    {
     "data": {
      "text/plain": [
       "TuningActionConfig(params={'tau': {'high': 2.0, 'dtype': <class 'float'>, 'discrete': False}, 'optimal_speed': {'high': 1.0, 'dtype': <class 'float'>, 'discrete': False}})"
      ]
     },
     "execution_count": 35,
     "metadata": {},
     "output_type": "execute_result"
    }
   ],
   "source": [
    "agent.action_config"
   ]
  },
  {
   "cell_type": "code",
   "execution_count": 36,
   "id": "bbd90d6d-d536-4e82-8b33-ef43f191b347",
   "metadata": {},
   "outputs": [
    {
     "data": {
      "text/plain": [
       "<navground.sim._navground_sim.CrossScenario at 0x318071bb0>"
      ]
     },
     "execution_count": 36,
     "metadata": {},
     "output_type": "execute_result"
    }
   ],
   "source": [
    "from navground_learning.env import NavgroundBaseEnv, AgentConfig, NavgroundEnv\n",
    "from navground import core, sim\n",
    "from navground_learning import ObservationConfig, ControlActionConfig, GymAgent, TuningActionConfig\n",
    "import numpy as np\n",
    "\n",
    "scenario = sim.load_scenario(\"\"\"\n",
    "type: Cross\n",
    "agent_margin: 0.1\n",
    "side: 4\n",
    "target_margin: 0.1\n",
    "tolerance: 0.5\n",
    "groups:\n",
    "  -\n",
    "    type: thymio\n",
    "    number: 20\n",
    "    radius: 0.1\n",
    "    control_period: 0.1\n",
    "    speed_tolerance: 0.02\n",
    "    color: gray\n",
    "    kinematics:\n",
    "      type: 2WDiff\n",
    "      wheel_axis: 0.094\n",
    "      max_speed: 0.12\n",
    "    behavior:\n",
    "      type: HL\n",
    "      optimal_speed: 0.12\n",
    "      horizon: 5.0\n",
    "      tau: 0.25\n",
    "      eta: 0.5\n",
    "      safety_margin: 0.1\n",
    "    state_estimation:\n",
    "      type: Bounded\n",
    "      range: 5.0\n",
    "\"\"\")\n",
    "scenario"
   ]
  },
  {
   "cell_type": "code",
   "execution_count": 42,
   "id": "395f8dd7-f4ba-474e-8b1a-f57d2585b5c3",
   "metadata": {},
   "outputs": [],
   "source": [
    "from collections.abc import Sequence"
   ]
  },
  {
   "cell_type": "code",
   "execution_count": 43,
   "id": "76f098c2-b828-422d-b59a-ca5ce01f3362",
   "metadata": {},
   "outputs": [
    {
     "data": {
      "text/plain": [
       "collections.abc.Sequence"
      ]
     },
     "execution_count": 43,
     "metadata": {},
     "output_type": "execute_result"
    }
   ],
   "source": [
    "Sequence"
   ]
  },
  {
   "cell_type": "code",
   "execution_count": 37,
   "id": "8b854f44-d729-4a22-8e67-6e30ca10dba8",
   "metadata": {},
   "outputs": [],
   "source": [
    "config = [AgentConfig(indices=[1], action=ControlActionConfig(max_speed=1)),\n",
    "          AgentConfig(indices=[2], action=ControlActionConfig(max_speed=10))]\n",
    "env = NavgroundBaseEnv(scenario=scenario, config=config)"
   ]
  },
  {
   "cell_type": "code",
   "execution_count": 41,
   "id": "53176af8-292c-494e-9dcd-1e92d708974a",
   "metadata": {},
   "outputs": [
    {
     "data": {
      "text/plain": [
       "[AgentConfig(action=ControlActionConfig(dtype='', max_speed=1, max_angular_speed=inf, dof=None, max_acceleration=inf, max_angular_acceleration=inf, use_acceleration_action=False, fix_orientation=False, use_wheels=False, has_wheels=None), indices=[1], sensor=None, reward=NullReward(), observation=ObservationConfig(dtype='', max_speed=inf, max_angular_speed=inf, dof=None, flat=False, history=1, include_target_distance=True, max_target_distance=inf, include_target_direction=True, include_velocity=False, include_angular_speed=False, include_radius=False, max_radius=inf)),\n",
       " AgentConfig(action=ControlActionConfig(dtype='', max_speed=10, max_angular_speed=inf, dof=None, max_acceleration=inf, max_angular_acceleration=inf, use_acceleration_action=False, fix_orientation=False, use_wheels=False, has_wheels=None), indices=[2], sensor=None, reward=NullReward(), observation=ObservationConfig(dtype='', max_speed=inf, max_angular_speed=inf, dof=None, flat=False, history=1, include_target_distance=True, max_target_distance=inf, include_target_direction=True, include_velocity=False, include_angular_speed=False, include_radius=False, max_radius=inf))]"
      ]
     },
     "execution_count": 41,
     "metadata": {},
     "output_type": "execute_result"
    }
   ],
   "source": [
    "config"
   ]
  },
  {
   "cell_type": "code",
   "execution_count": 38,
   "id": "76c4c8c0-419e-416f-b9d6-bca7eb4ef9aa",
   "metadata": {},
   "outputs": [
    {
     "data": {
      "text/plain": [
       "{1: Box(-1.0, 1.0, (2,), float64), 2: Box(-1.0, 1.0, (2,), float64)}"
      ]
     },
     "execution_count": 38,
     "metadata": {},
     "output_type": "execute_result"
    }
   ],
   "source": [
    "env._action_space"
   ]
  },
  {
   "cell_type": "code",
   "execution_count": 39,
   "id": "b2e32995-b6d0-4373-a8d5-2052713e4be3",
   "metadata": {},
   "outputs": [],
   "source": [
    "import dataclasses as dc"
   ]
  },
  {
   "cell_type": "code",
   "execution_count": 40,
   "id": "cce925b9-a012-48a5-9223-716f81c1c350",
   "metadata": {},
   "outputs": [
    {
     "data": {
      "text/plain": [
       "{'dtype': 'float64',\n",
       " 'max_speed': 1,\n",
       " 'max_angular_speed': inf,\n",
       " 'dof': None,\n",
       " 'max_acceleration': inf,\n",
       " 'max_angular_acceleration': inf,\n",
       " 'use_acceleration_action': False,\n",
       " 'fix_orientation': False,\n",
       " 'use_wheels': False,\n",
       " 'has_wheels': None,\n",
       " 'type': 'ControlActionConfig'}"
      ]
     },
     "execution_count": 40,
     "metadata": {},
     "output_type": "execute_result"
    }
   ],
   "source": [
    "ControlActionConfig(max_speed=1, dtype=float).asdict"
   ]
  },
  {
   "cell_type": "code",
   "execution_count": 9,
   "id": "02f65605-574e-4d1d-9888-6ccc8e750a21",
   "metadata": {},
   "outputs": [
    {
     "name": "stdout",
     "output_type": "stream",
     "text": [
      "config:\n",
      "- action:\n",
      "    dof: null\n",
      "    dtype: ''\n",
      "    fix_orientation: false\n",
      "    has_wheels: null\n",
      "    max_acceleration: .inf\n",
      "    max_angular_acceleration: .inf\n",
      "    max_angular_speed: .inf\n",
      "    max_speed: 1\n",
      "    use_acceleration_action: false\n",
      "    use_wheels: false\n",
      "  indices:\n",
      "  - 1\n",
      "  observation:\n",
      "    dof: null\n",
      "    dtype: ''\n",
      "    flat: false\n",
      "    history: 1\n",
      "    include_angular_speed: false\n",
      "    include_radius: false\n",
      "    include_target_direction: true\n",
      "    include_target_distance: true\n",
      "    include_velocity: false\n",
      "    max_angular_speed: .inf\n",
      "    max_radius: .inf\n",
      "    max_speed: .inf\n",
      "    max_target_distance: .inf\n",
      "  reward:\n",
      "    type: zero\n",
      "  sensor: null\n",
      "- action:\n",
      "    dof: null\n",
      "    dtype: ''\n",
      "    fix_orientation: false\n",
      "    has_wheels: null\n",
      "    max_acceleration: .inf\n",
      "    max_angular_acceleration: .inf\n",
      "    max_angular_speed: .inf\n",
      "    max_speed: 10\n",
      "    use_acceleration_action: false\n",
      "    use_wheels: false\n",
      "  indices:\n",
      "  - 2\n",
      "  observation:\n",
      "    dof: null\n",
      "    dtype: ''\n",
      "    flat: false\n",
      "    history: 1\n",
      "    include_angular_speed: false\n",
      "    include_radius: false\n",
      "    include_target_direction: true\n",
      "    include_target_distance: true\n",
      "    include_velocity: false\n",
      "    max_angular_speed: .inf\n",
      "    max_radius: .inf\n",
      "    max_speed: .inf\n",
      "    max_target_distance: .inf\n",
      "  reward:\n",
      "    type: zero\n",
      "  sensor: null\n",
      "max_duration: -1.0\n",
      "realtime_factor: 1.0\n",
      "render_kwargs: {}\n",
      "render_mode: null\n",
      "scenario:\n",
      "  add_safety_to_agent_margin: true\n",
      "  agent_margin: 0.1\n",
      "  groups:\n",
      "  - behavior:\n",
      "      eta: 0.5\n",
      "      horizon: 5\n",
      "      optimal_speed: 0.12\n",
      "      safety_margin: 0.1\n",
      "      tau: 0.25\n",
      "      type: HL\n",
      "    color: gray\n",
      "    control_period: 0.1\n",
      "    kinematics:\n",
      "      max_speed: 0.12\n",
      "      type: 2WDiff\n",
      "      wheel_axis: 0.094\n",
      "    number: 20\n",
      "    radius: 0.1\n",
      "    state_estimation:\n",
      "      range: 5\n",
      "      type: Bounded\n",
      "    type: thymio\n",
      "  obstacles: []\n",
      "  side: 4\n",
      "  target_margin: 0.1\n",
      "  tolerance: 0.5\n",
      "  type: Cross\n",
      "  walls: []\n",
      "time_step: 0.1\n",
      "truncate_outside_bounds: true\n",
      "\n"
     ]
    }
   ],
   "source": [
    "import yaml\n",
    "\n",
    "print(yaml.safe_dump(env.asdict))"
   ]
  },
  {
   "cell_type": "code",
   "execution_count": 10,
   "id": "a7c5546e-d2cb-4dff-9511-8da00bedeaba",
   "metadata": {},
   "outputs": [],
   "source": [
    "env = NavgroundEnv(scenario=scenario)"
   ]
  },
  {
   "cell_type": "code",
   "execution_count": 11,
   "id": "6dea1052-2c0e-4cd4-9822-5c9baa1e5c60",
   "metadata": {},
   "outputs": [
    {
     "data": {
      "text/plain": [
       "({'ego_target_direction': array([ 1.00000000e+00, -3.41599925e-17]),\n",
       "  'ego_target_distance': array([2.1121034])},\n",
       " {'navground_action': array([0.32967995, 0.        ])})"
      ]
     },
     "execution_count": 11,
     "metadata": {},
     "output_type": "execute_result"
    }
   ],
   "source": [
    "env.reset()"
   ]
  },
  {
   "cell_type": "code",
   "execution_count": 12,
   "id": "5e20bdba-8f78-4b95-b267-12590df2e6ce",
   "metadata": {},
   "outputs": [
    {
     "data": {
      "text/plain": [
       "({'ego_target_direction': array([ 0.99682682, -0.07960086]),\n",
       "  'ego_target_distance': array([2.1038486])},\n",
       " 0.0,\n",
       " False,\n",
       " False,\n",
       " {'navground_action': array([0.76875113, 0.1886284 ])})"
      ]
     },
     "execution_count": 12,
     "metadata": {},
     "output_type": "execute_result"
    }
   ],
   "source": [
    "env.step(env.action_space.sample())"
   ]
  },
  {
   "cell_type": "code",
   "execution_count": 13,
   "id": "8fe28f70-a8c1-483c-a1ed-f206204694b0",
   "metadata": {},
   "outputs": [],
   "source": [
    "from navground_learning.env.pz import shared_parallel_env, parallel_env"
   ]
  },
  {
   "cell_type": "code",
   "execution_count": 14,
   "id": "b0b2348b-6500-4cda-9319-55cad412c8a4",
   "metadata": {},
   "outputs": [],
   "source": [
    "env = shared_parallel_env(scenario=scenario, agent_indices=None)"
   ]
  },
  {
   "cell_type": "code",
   "execution_count": 15,
   "id": "ae6ad182-f907-489d-8cea-bfc5eed89bd7",
   "metadata": {},
   "outputs": [
    {
     "data": {
      "text/plain": [
       "[0, 1, 2, 3, 4, 5, 6, 7, 8, 9, 10, 11, 12, 13, 14, 15, 16, 17, 18, 19]"
      ]
     },
     "execution_count": 15,
     "metadata": {},
     "output_type": "execute_result"
    }
   ],
   "source": [
    "env.possible_agents"
   ]
  },
  {
   "cell_type": "code",
   "execution_count": 16,
   "id": "559e89cb-d118-4375-b914-8692eab6f789",
   "metadata": {},
   "outputs": [
    {
     "data": {
      "text/plain": [
       "[]"
      ]
     },
     "execution_count": 16,
     "metadata": {},
     "output_type": "execute_result"
    }
   ],
   "source": [
    "env.agents"
   ]
  },
  {
   "cell_type": "code",
   "execution_count": 17,
   "id": "32d00114-e3f4-4eb7-b0e6-b967f5a90361",
   "metadata": {},
   "outputs": [
    {
     "data": {
      "text/plain": [
       "({0: {'ego_target_direction': array([ 1.00000000e+00, -3.41599925e-17]),\n",
       "   'ego_target_distance': array([2.1121034])},\n",
       "  1: {'ego_target_direction': array([ 1.00000000e+00, -1.75166968e-16]),\n",
       "   'ego_target_distance': array([3.61000402])},\n",
       "  2: {'ego_target_direction': array([1.00000000e+00, 2.39894612e-17]),\n",
       "   'ego_target_distance': array([2.48412877])},\n",
       "  3: {'ego_target_direction': array([ 1.00000000e+00, -2.76738983e-17]),\n",
       "   'ego_target_distance': array([0.82982272])},\n",
       "  4: {'ego_target_direction': array([1.00000000e+00, 1.08220085e-18]),\n",
       "   'ego_target_distance': array([2.86357659])},\n",
       "  5: {'ego_target_direction': array([ 1.00000000e+00, -1.94044861e-17]),\n",
       "   'ego_target_distance': array([3.16806796])},\n",
       "  6: {'ego_target_direction': array([ 1.00000000e+00, -5.67650252e-17]),\n",
       "   'ego_target_distance': array([0.84435221])},\n",
       "  7: {'ego_target_direction': array([1.00000000e+00, 6.75048741e-17]),\n",
       "   'ego_target_distance': array([2.63648157])},\n",
       "  8: {'ego_target_direction': array([1.00000000e+00, 3.88705449e-17]),\n",
       "   'ego_target_distance': array([3.04487092])},\n",
       "  9: {'ego_target_direction': array([ 1.00000000e+00, -7.48278767e-17]),\n",
       "   'ego_target_distance': array([1.54236152])},\n",
       "  10: {'ego_target_direction': array([1.00000000e+00, 9.31867372e-17]),\n",
       "   'ego_target_distance': array([0.84102021])},\n",
       "  11: {'ego_target_direction': array([ 1.00000000e+00, -9.51441561e-17]),\n",
       "   'ego_target_distance': array([2.60651629])},\n",
       "  12: {'ego_target_direction': array([1.00000000e+00, 4.94557457e-18]),\n",
       "   'ego_target_distance': array([1.20268305])},\n",
       "  13: {'ego_target_direction': array([ 1.0000000e+00, -5.8512973e-18]),\n",
       "   'ego_target_distance': array([2.43504972])},\n",
       "  14: {'ego_target_direction': array([1.00000000e+00, 4.17108025e-17]),\n",
       "   'ego_target_distance': array([2.57953419])},\n",
       "  15: {'ego_target_direction': array([ 1.00000000e+00, -5.98964053e-17]),\n",
       "   'ego_target_distance': array([3.13566432])},\n",
       "  16: {'ego_target_direction': array([ 1.00000000e+00, -9.23088085e-18]),\n",
       "   'ego_target_distance': array([3.3749174])},\n",
       "  17: {'ego_target_direction': array([ 1.00000000e+00, -2.66927802e-16]),\n",
       "   'ego_target_distance': array([1.87468356])},\n",
       "  18: {'ego_target_direction': array([ 1.00000000e+00, -7.97080155e-17]),\n",
       "   'ego_target_distance': array([2.65354455])},\n",
       "  19: {'ego_target_direction': array([ 1.00000000e+00, -9.09048564e-17]),\n",
       "   'ego_target_distance': array([2.377292])}},\n",
       " {0: {'navground_action': array([0.32967995, 0.        ])},\n",
       "  1: {'navground_action': array([0.2332862 , 0.09639375])},\n",
       "  2: {'navground_action': array([ 0.26541745, -0.0642625 ])},\n",
       "  3: {'navground_action': array([0.32967995, 0.        ])},\n",
       "  4: {'navground_action': array([ 0.18508932, -0.14459063])},\n",
       "  5: {'navground_action': array([ 0.2975487 , -0.03213125])},\n",
       "  6: {'navground_action': array([ 0.28148308, -0.04819688])},\n",
       "  7: {'navground_action': array([0.32967995, 0.        ])},\n",
       "  8: {'navground_action': array([0.18508932, 0.14459063])},\n",
       "  9: {'navground_action': array([0.32967995, 0.        ])},\n",
       "  10: {'navground_action': array([0.32967995, 0.        ])},\n",
       "  11: {'navground_action': array([0.32967995, 0.        ])},\n",
       "  12: {'navground_action': array([0.31361433, 0.01606563])},\n",
       "  13: {'navground_action': array([ 0.2975487 , -0.03213125])},\n",
       "  14: {'navground_action': array([0.13689245, 0.19278751])},\n",
       "  15: {'navground_action': array([ 0.2332862 , -0.09639375])},\n",
       "  16: {'navground_action': array([0.18508932, 0.14459063])},\n",
       "  17: {'navground_action': array([0.31361433, 0.01606563])},\n",
       "  18: {'navground_action': array([ 0.07262994, -0.25705001])},\n",
       "  19: {'navground_action': array([0.32967995, 0.        ])}})"
      ]
     },
     "execution_count": 17,
     "metadata": {},
     "output_type": "execute_result"
    }
   ],
   "source": [
    "env.reset()"
   ]
  },
  {
   "cell_type": "code",
   "execution_count": 18,
   "id": "2b087428-630a-454f-8fc2-c1c80a6a184b",
   "metadata": {},
   "outputs": [],
   "source": [
    "env = parallel_env(scenario=scenario, config=config)"
   ]
  },
  {
   "cell_type": "code",
   "execution_count": 19,
   "id": "c54f3e98-808f-4f9e-a9b7-1a9db1ed94bb",
   "metadata": {},
   "outputs": [
    {
     "data": {
      "text/plain": [
       "({1: {'ego_target_direction': array([ 1.00000000e+00, -1.75166968e-16]),\n",
       "   'ego_target_distance': array([3.61000402])},\n",
       "  2: {'ego_target_direction': array([1.00000000e+00, 2.39894612e-17]),\n",
       "   'ego_target_distance': array([2.48412877])}},\n",
       " {1: {'navground_action': array([0.02799434, 0.09639375])},\n",
       "  2: {'navground_action': array([ 0.00318501, -0.0642625 ])}})"
      ]
     },
     "execution_count": 19,
     "metadata": {},
     "output_type": "execute_result"
    }
   ],
   "source": [
    "env.reset()"
   ]
  },
  {
   "cell_type": "code",
   "execution_count": 20,
   "id": "8cae9a55-ada9-415b-8108-4dad733507ad",
   "metadata": {},
   "outputs": [
    {
     "data": {
      "text/plain": [
       "{'config': [{'action': {'dtype': '',\n",
       "    'max_speed': 1,\n",
       "    'max_angular_speed': inf,\n",
       "    'dof': None,\n",
       "    'max_acceleration': inf,\n",
       "    'max_angular_acceleration': inf,\n",
       "    'use_acceleration_action': False,\n",
       "    'fix_orientation': False,\n",
       "    'use_wheels': False,\n",
       "    'has_wheels': None},\n",
       "   'indices': [1],\n",
       "   'sensor': None,\n",
       "   'reward': {'type': 'zero'},\n",
       "   'observation': {'dtype': '',\n",
       "    'max_speed': inf,\n",
       "    'max_angular_speed': inf,\n",
       "    'dof': None,\n",
       "    'flat': False,\n",
       "    'history': 1,\n",
       "    'include_target_distance': True,\n",
       "    'max_target_distance': inf,\n",
       "    'include_target_direction': True,\n",
       "    'include_velocity': False,\n",
       "    'include_angular_speed': False,\n",
       "    'include_radius': False,\n",
       "    'max_radius': inf}},\n",
       "  {'action': {'dtype': '',\n",
       "    'max_speed': 10,\n",
       "    'max_angular_speed': inf,\n",
       "    'dof': None,\n",
       "    'max_acceleration': inf,\n",
       "    'max_angular_acceleration': inf,\n",
       "    'use_acceleration_action': False,\n",
       "    'fix_orientation': False,\n",
       "    'use_wheels': False,\n",
       "    'has_wheels': None},\n",
       "   'indices': [2],\n",
       "   'sensor': None,\n",
       "   'reward': {'type': 'zero'},\n",
       "   'observation': {'dtype': '',\n",
       "    'max_speed': inf,\n",
       "    'max_angular_speed': inf,\n",
       "    'dof': None,\n",
       "    'flat': False,\n",
       "    'history': 1,\n",
       "    'include_target_distance': True,\n",
       "    'max_target_distance': inf,\n",
       "    'include_target_direction': True,\n",
       "    'include_velocity': False,\n",
       "    'include_angular_speed': False,\n",
       "    'include_radius': False,\n",
       "    'max_radius': inf}}],\n",
       " 'time_step': 0.1,\n",
       " 'max_duration': -1.0,\n",
       " 'truncate_outside_bounds': True,\n",
       " 'render_mode': None,\n",
       " 'render_kwargs': {},\n",
       " 'realtime_factor': 1.0,\n",
       " 'scenario': {'type': 'Cross',\n",
       "  'add_safety_to_agent_margin': True,\n",
       "  'agent_margin': 0.1,\n",
       "  'side': 4,\n",
       "  'target_margin': 0.1,\n",
       "  'tolerance': 0.5,\n",
       "  'obstacles': [],\n",
       "  'walls': [],\n",
       "  'groups': [{'behavior': {'type': 'HL',\n",
       "     'optimal_speed': 0.12,\n",
       "     'horizon': 5,\n",
       "     'tau': 0.25,\n",
       "     'eta': 0.5,\n",
       "     'safety_margin': 0.1},\n",
       "    'kinematics': {'type': '2WDiff', 'wheel_axis': 0.094, 'max_speed': 0.12},\n",
       "    'state_estimation': {'type': 'Bounded', 'range': 5},\n",
       "    'radius': 0.1,\n",
       "    'control_period': 0.1,\n",
       "    'number': 20,\n",
       "    'type': 'thymio',\n",
       "    'color': 'gray'}]}}"
      ]
     },
     "execution_count": 20,
     "metadata": {},
     "output_type": "execute_result"
    }
   ],
   "source": [
    "env.asdict"
   ]
  },
  {
   "cell_type": "code",
   "execution_count": 22,
   "id": "a8755c46-21f3-4cfc-bd76-820247f93d8c",
   "metadata": {},
   "outputs": [],
   "source": [
    "@dc.dataclass\n",
    "class A:\n",
    "    a: int = 1\n",
    "\n",
    "@dc.dataclass\n",
    "class B(A):\n",
    "    b: int = 2"
   ]
  },
  {
   "cell_type": "code",
   "execution_count": 23,
   "id": "3f54af6d-36fb-44be-96cd-3de9d4a5e602",
   "metadata": {},
   "outputs": [],
   "source": [
    "a = A()"
   ]
  },
  {
   "cell_type": "code",
   "execution_count": 30,
   "id": "59716a86-e34f-4db5-8b3c-0d9bd9317824",
   "metadata": {},
   "outputs": [],
   "source": [
    "b = B(**dc.asdict(a), b=10)"
   ]
  },
  {
   "cell_type": "code",
   "execution_count": 31,
   "id": "1a4065e2-0ebc-4c4d-a6ae-0300c6beb62b",
   "metadata": {},
   "outputs": [
    {
     "data": {
      "text/plain": [
       "B(a=1, b=10)"
      ]
     },
     "execution_count": 31,
     "metadata": {},
     "output_type": "execute_result"
    }
   ],
   "source": [
    "b"
   ]
  },
  {
   "cell_type": "code",
   "execution_count": null,
   "id": "8f3b9e5c-8b3d-4e21-b16b-ed2b211881d5",
   "metadata": {},
   "outputs": [],
   "source": []
  }
 ],
 "metadata": {
  "kernelspec": {
   "display_name": "Python 3 (ipykernel)",
   "language": "python",
   "name": "python3"
  },
  "language_info": {
   "codemirror_mode": {
    "name": "ipython",
    "version": 3
   },
   "file_extension": ".py",
   "mimetype": "text/x-python",
   "name": "python",
   "nbconvert_exporter": "python",
   "pygments_lexer": "ipython3",
   "version": "3.12.4"
  }
 },
 "nbformat": 4,
 "nbformat_minor": 5
}
