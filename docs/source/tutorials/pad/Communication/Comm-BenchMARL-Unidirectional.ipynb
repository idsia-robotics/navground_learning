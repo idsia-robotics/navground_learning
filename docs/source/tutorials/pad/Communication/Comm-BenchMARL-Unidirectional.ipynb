{
 "cells": [
  {
   "cell_type": "markdown",
   "id": "5e3a3b5e-c840-4e5e-8506-923f4f585a7e",
   "metadata": {},
   "source": [
    "# Unidirection communication\n",
    "\n",
    "- 1 speaker\n",
    "- 1 listener"
   ]
  },
  {
   "cell_type": "code",
   "execution_count": 1,
   "id": "524e0cd6-491a-41ec-8c41-d0f364704575",
   "metadata": {},
   "outputs": [],
   "source": [
    "%load_ext autoreload\n",
    "%autoreload 2"
   ]
  },
  {
   "cell_type": "code",
   "execution_count": 2,
   "id": "eb148675-bae9-4e0e-806c-094564460ca4",
   "metadata": {},
   "outputs": [],
   "source": [
    "import warnings\n",
    "\n",
    "warnings.filterwarnings('ignore')"
   ]
  },
  {
   "cell_type": "markdown",
   "id": "562fb847-0927-4e71-acf1-7f6208aa476c",
   "metadata": {},
   "source": [
    "You can skip training and instead load the last trained policy by changing the flag below."
   ]
  },
  {
   "cell_type": "code",
   "execution_count": 3,
   "id": "908562e3-a387-4d5c-950a-cacc33796867",
   "metadata": {},
   "outputs": [],
   "source": [
    "from navground.learning.utils.jupyter import skip_if, run_if\n",
    "\n",
    "training = True"
   ]
  },
  {
   "cell_type": "code",
   "execution_count": 4,
   "id": "62fdab10-191b-4084-9b9c-cd827e4480a6",
   "metadata": {},
   "outputs": [],
   "source": [
    "from navground.learning import DefaultObservationConfig, DefaultStateConfig, ControlActionConfig\n",
    "from navground.learning.config.control_action_with_comm import ControlActionWithCommConfig\n",
    "from navground.learning.examples.pad import comm, marker, PadReward, is_success, is_failure\n",
    "from navground.learning.scenarios.pad import render_kwargs, PadScenario\n",
    "from navground.learning.parallel_env import parallel_env\n",
    "from navground.learning import GroupConfig\n",
    "\n",
    "name = \"DirectionalComm\"\n",
    "comm_size = 1\n",
    "action_speaker = ControlActionWithCommConfig(use_acceleration_action=True, max_acceleration=1, \n",
    "                                             fix_orientation=True, comm_size=comm_size)\n",
    "action_listener = ControlActionConfig(use_acceleration_action=True, max_acceleration=1, \n",
    "                                      fix_orientation=True)\n",
    "observation = DefaultObservationConfig(flat=False, include_velocity=True, include_target_direction=False)\n",
    "state = DefaultStateConfig(include_y=False, include_position=True, include_velocity=True)\n",
    "reward = PadReward(neighbor_weight=0.5)\n",
    "speaker = GroupConfig(indices=[0], action=action_speaker, observation=observation, \n",
    "                      sensors=[marker()], tag='speaker', reward=reward,\n",
    "                      terminate_on_success=True, terminate_on_failure=False,\n",
    "                      success_condition=is_success, failure_condition=is_failure)\n",
    "listener = GroupConfig(indices=[1], action=action_listener, observation=observation, \n",
    "                       sensors=[comm(size=comm_size), marker()], tag='listener', reward=reward,\n",
    "                       terminate_on_success=True, terminate_on_failure=False,\n",
    "                       success_condition=is_success, failure_condition=is_failure)\n",
    "groups = [speaker, listener]\n",
    "train_scenario = PadScenario(start_in_opposite_sides=False)\n",
    "test_scenario = PadScenario(start_in_opposite_sides=True)\n",
    "train_env = parallel_env(groups=groups, state=state, scenario=train_scenario, \n",
    "                         include_success=False, wait=True, max_duration=20, time_step=0.1)\n",
    "rkwargs = render_kwargs(comm=True, low=-1, color_low=(1, 0, 0), color_high=(0, 1, 0))\n",
    "test_env = parallel_env(groups=groups, state=state, scenario=test_scenario,\n",
    "                        include_success=True, init_success=False, intermediate_success=True, \n",
    "                        render_mode='rgb_array', render_kwargs=rkwargs, wait=True,\n",
    "                        max_duration=20, time_step=0.1)"
   ]
  },
  {
   "cell_type": "code",
   "execution_count": 5,
   "id": "16e37f54-9bc6-4eb9-867e-949250ea2065",
   "metadata": {
    "scrolled": true
   },
   "outputs": [],
   "source": [
    "%%skip_if $training\n",
    "\n",
    "import pathlib, os\n",
    "from navground.learning.utils.benchmarl import NavgroundExperiment\n",
    "\n",
    "path = max(pathlib.Path(f'logs/{name}/MASAC').glob('*/checkpoints/*.pt'), key=os.path.getmtime)\n",
    "experiment = NavgroundExperiment.reload_from_file(str(path))\n",
    "experiment.folder_name"
   ]
  },
  {
   "cell_type": "code",
   "execution_count": 6,
   "id": "4e395c8d-1af1-4eb0-81e3-b06ad10760c8",
   "metadata": {
    "scrolled": true
   },
   "outputs": [
    {
     "data": {
      "text/plain": [
       "PosixPath('logs/DirectionalComm/MASAC/masac_navground_mlp__f924c091_25_05_21-16_28_14')"
      ]
     },
     "execution_count": 6,
     "metadata": {},
     "output_type": "execute_result"
    }
   ],
   "source": [
    "%%run_if $training\n",
    "\n",
    "import os\n",
    "from benchmarl.algorithms import MasacConfig\n",
    "from benchmarl.models.mlp import MlpConfig\n",
    "from benchmarl.experiment import ExperimentConfig\n",
    "from navground.learning.utils.benchmarl import NavgroundExperiment, ExportPolicyCallback\n",
    "\n",
    "algorithm = MasacConfig.get_from_yaml()\n",
    "model = MlpConfig.get_from_yaml()\n",
    "config = ExperimentConfig.get_from_yaml()\n",
    "config.loggers = [ 'csv']\n",
    "config.render = True\n",
    "config.evaluation_interval = 6000\n",
    "config.evaluation_episodes = 30\n",
    "config.lr = 3e-4\n",
    "config.max_n_iters = 1\n",
    "config.checkpoint_at_end = True\n",
    "config.save_folder = f'logs/{name}/MASAC'\n",
    "os.makedirs(config.save_folder, exist_ok=True)\n",
    "experiment_masac = NavgroundExperiment(\n",
    "    env=train_env,\n",
    "    eval_env=test_env,\n",
    "    config=config,\n",
    "    model_config=model,\n",
    "    critic_model_config=model,\n",
    "    algorithm_config=algorithm,\n",
    "    seed=0,\n",
    "    callbacks=[ExportPolicyCallback()]\n",
    ")\n",
    "experiment_masac.folder_name"
   ]
  },
  {
   "cell_type": "code",
   "execution_count": 7,
   "id": "4e741b20-bbe5-4692-855b-280f605b71dc",
   "metadata": {},
   "outputs": [
    {
     "data": {
      "text/plain": [
       "(Dict('pad/x': Box(-1.0, 1.0, (1,), float32), 'ego_velocity': Box(-0.14, 0.14, (1,), float32)),\n",
       " Box(-1.0, 1.0, (2,), float32))"
      ]
     },
     "execution_count": 7,
     "metadata": {},
     "output_type": "execute_result"
    }
   ],
   "source": [
    "experiment_masac.observation_space('speaker'), experiment_masac.action_space('speaker')"
   ]
  },
  {
   "cell_type": "code",
   "execution_count": 8,
   "id": "aeab489f-d10d-4538-b36c-93d7bcf5ec5b",
   "metadata": {},
   "outputs": [
    {
     "data": {
      "text/plain": [
       "(Dict('neighbor/comm': Box(-1.0, 1.0, (1,), float32), 'pad/x': Box(-1.0, 1.0, (1,), float32), 'ego_velocity': Box(-0.14, 0.14, (1,), float32)),\n",
       " Box(-1.0, 1.0, (1,), float32))"
      ]
     },
     "execution_count": 8,
     "metadata": {},
     "output_type": "execute_result"
    }
   ],
   "source": [
    "experiment_masac.observation_space('listener'), experiment_masac.action_space('listener')"
   ]
  },
  {
   "cell_type": "code",
   "execution_count": null,
   "id": "860a2f89-b104-4bf7-8ca3-b63f7e29548f",
   "metadata": {},
   "outputs": [
    {
     "name": "stderr",
     "output_type": "stream",
     "text": [
      "mean return = -37.342201232910156:  34%|███████████████████████████████████████████████▉                                                                                             | 34/100 [22:28<44:20, 40.31s/it]"
     ]
    }
   ],
   "source": [
    "%%run_if $training\n",
    "\n",
    "experiment_masac.run_for(iterations=100)"
   ]
  },
  {
   "cell_type": "code",
   "execution_count": null,
   "id": "582c129c-2e6c-4eed-a378-aa4b8b6cb10d",
   "metadata": {},
   "outputs": [],
   "source": [
    "experiment_masac.plot_eval_logs(group='speaker', reward_low=-200, reward_high=0, \n",
    "                                success=True, figsize=(8, 3), title=\"Speaker)\n",
    "                                    "
   ]
  },
  {
   "cell_type": "code",
   "execution_count": null,
   "id": "36a52ba2-d0ad-4374-9cb1-d4cf16087de0",
   "metadata": {},
   "outputs": [],
   "source": [
    "experiment_masac.plot_eval_logs(group='listener', reward_low=-200, reward_high=0, \n",
    "                                success=True, figsize=(8, 3), title=\"Listener)"
   ]
  },
  {
   "cell_type": "code",
   "execution_count": null,
   "id": "85720667-16a3-4010-b84e-903efafa893b",
   "metadata": {},
   "outputs": [],
   "source": [
    "from navground.learning.evaluation.video import display_episode_video\n",
    "\n",
    "groups = experiment_masac.get_single_agent_policies()\n",
    "display_episode_video(test_env, groups=groups, factor=4, select=20, of=31, **rkwargs)"
   ]
  },
  {
   "cell_type": "code",
   "execution_count": null,
   "id": "cd5e6044-491d-49cf-a182-f86472acc322",
   "metadata": {},
   "outputs": [],
   "source": [
    "groups = experiment_masac.load_policies(name=\"best_policy\")\n",
    "display_episode_video(test_env, groups=groups, factor=4, select=15, of=31, **rkwargs)"
   ]
  },
  {
   "cell_type": "code",
   "execution_count": null,
   "id": "329d7acd-b7c2-4999-b5cb-f6f9b1653151",
   "metadata": {},
   "outputs": [],
   "source": [
    "from navground.learning.utils.plot import plot_policy\n",
    "from matplotlib import pyplot as plt\n",
    "\n",
    "plot_policy(groups[0].policy, \n",
    "            variable={'pad/x': (-1, 1)},\n",
    "            fix={'ego_velocity': 0.1},\n",
    "            actions={0: 'acceleration', 1: 'message'}, \n",
    "            width=5, height=3)\n",
    "plt.title(\"Speaker\")"
   ]
  },
  {
   "cell_type": "code",
   "execution_count": null,
   "id": "b4e0d26e-f0dd-44c9-81cf-4183ce7ba158",
   "metadata": {},
   "outputs": [],
   "source": [
    "plot_policy(groups[1].policy, \n",
    "            variable={'pad/x': (-1, 1), 'neighbor/comm': (-1, 1)},\n",
    "            fix={'ego_velocity': 0.1},\n",
    "            actions={0: 'acceleration'}, \n",
    "            width=5, height=3)\n",
    "plt.title(\"Listener\")"
   ]
  },
  {
   "cell_type": "code",
   "execution_count": null,
   "id": "b65d834e-ef45-4698-95ee-c79f1e825930",
   "metadata": {},
   "outputs": [],
   "source": [
    "from navground.learning.evaluation.video import record_episode_video\n",
    "\n",
    "record_episode_video(test_env, path=f'../videos/{name}.mp4', groups=groups, factor=4, select=15, of=31, **rkwargs)"
   ]
  },
  {
   "cell_type": "code",
   "execution_count": null,
   "id": "2dbe723f-d8e8-4112-8c4b-95d7f28aebea",
   "metadata": {},
   "outputs": [],
   "source": []
  }
 ],
 "metadata": {
  "kernelspec": {
   "display_name": "Python 3 (ipykernel)",
   "language": "python",
   "name": "python3"
  },
  "language_info": {
   "codemirror_mode": {
    "name": "ipython",
    "version": 3
   },
   "file_extension": ".py",
   "mimetype": "text/x-python",
   "name": "python",
   "nbconvert_exporter": "python",
   "pygments_lexer": "ipython3",
   "version": "3.12.10"
  }
 },
 "nbformat": 4,
 "nbformat_minor": 5
}
