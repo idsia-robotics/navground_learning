{
 "cells": [
  {
   "cell_type": "markdown",
   "id": "a42a65bd-a6f6-4b70-bd35-9aede8ab41e8",
   "metadata": {},
   "source": [
    "# TorchRL\n",
    "\n",
    "This notebook showcases the integration between navground and TorchRL.\n",
    "\n",
    "We load the two-group environement that we created in [the PettingZoo notebook](PettingZoo.ipynb)."
   ]
  },
  {
   "cell_type": "code",
   "execution_count": 1,
   "id": "eeb45f18-a340-474b-9c68-6edb18ee8b4b",
   "metadata": {
    "execution": {
     "iopub.execute_input": "2025-05-19T11:57:06.985044Z",
     "iopub.status.busy": "2025-05-19T11:57:06.984831Z",
     "iopub.status.idle": "2025-05-19T11:57:07.267535Z",
     "shell.execute_reply": "2025-05-19T11:57:07.266034Z"
    }
   },
   "outputs": [],
   "source": [
    "import warnings\n",
    "from navground.learning import io\n",
    "\n",
    "warnings.filterwarnings(\"ignore\")\n",
    "penv2 = io.load_env('penv2.yaml')"
   ]
  },
  {
   "cell_type": "markdown",
   "id": "91cf91b9-4cc9-4778-a3f3-3e5fb132230c",
   "metadata": {},
   "source": [
    "Because TorchRL natevely supports PettingZoo, we can convert any navground paralell environment to a TorchRL environment. "
   ]
  },
  {
   "cell_type": "code",
   "execution_count": 2,
   "id": "56eef882-71bd-4bf4-9c40-ae10ec94a6c6",
   "metadata": {
    "execution": {
     "iopub.execute_input": "2025-05-19T11:57:07.271359Z",
     "iopub.status.busy": "2025-05-19T11:57:07.271068Z",
     "iopub.status.idle": "2025-05-19T11:57:09.077142Z",
     "shell.execute_reply": "2025-05-19T11:57:09.076870Z"
    }
   },
   "outputs": [],
   "source": [
    "from navground.learning.utils.benchmarl import make_env\n",
    "\n",
    "env = make_env(penv2, seed=0)"
   ]
  },
  {
   "cell_type": "markdown",
   "id": "adc07d92-a954-4fac-82c4-5f36e253ccbf",
   "metadata": {},
   "source": [
    "The TorchRL environment groups agents using their navground tags, which we set to \"first\" and \"second\" in the [the PettingZoo notebook](PettingZoo.ipynb), as group name and prefix. The suffix comes from the agents indices in `penv`:"
   ]
  },
  {
   "cell_type": "code",
   "execution_count": 3,
   "id": "8c97cd8d-0a9b-410b-830f-589feebf4d4c",
   "metadata": {
    "execution": {
     "iopub.execute_input": "2025-05-19T11:57:09.078649Z",
     "iopub.status.busy": "2025-05-19T11:57:09.078506Z",
     "iopub.status.idle": "2025-05-19T11:57:09.081411Z",
     "shell.execute_reply": "2025-05-19T11:57:09.081195Z"
    }
   },
   "outputs": [
    {
     "data": {
      "text/plain": [
       "{'first': ['first_0',\n",
       "  'first_1',\n",
       "  'first_2',\n",
       "  'first_3',\n",
       "  'first_4',\n",
       "  'first_5',\n",
       "  'first_6',\n",
       "  'first_7',\n",
       "  'first_8',\n",
       "  'first_9'],\n",
       " 'second': ['second_10',\n",
       "  'second_11',\n",
       "  'second_12',\n",
       "  'second_13',\n",
       "  'second_14',\n",
       "  'second_15',\n",
       "  'second_16',\n",
       "  'second_17',\n",
       "  'second_18',\n",
       "  'second_19']}"
      ]
     },
     "execution_count": 3,
     "metadata": {},
     "output_type": "execute_result"
    }
   ],
   "source": [
    "env.group_map"
   ]
  },
  {
   "cell_type": "markdown",
   "id": "135590a4-497e-49f1-84b9-d93d84409d74",
   "metadata": {},
   "source": [
    "Rolling out a random policy"
   ]
  },
  {
   "cell_type": "code",
   "execution_count": 4,
   "id": "60ff39fe-c093-4604-b02a-7d7c2f796030",
   "metadata": {
    "execution": {
     "iopub.execute_input": "2025-05-19T11:57:09.082452Z",
     "iopub.status.busy": "2025-05-19T11:57:09.082383Z",
     "iopub.status.idle": "2025-05-19T11:57:09.576096Z",
     "shell.execute_reply": "2025-05-19T11:57:09.575809Z"
    }
   },
   "outputs": [],
   "source": [
    "rs = env.rollout(max_steps=100)"
   ]
  },
  {
   "cell_type": "markdown",
   "id": "0dac269d-5ace-401d-9267-ae1178b57263",
   "metadata": {},
   "source": [
    "records different sensors for the two groups (each composed by 10 agents)"
   ]
  },
  {
   "cell_type": "code",
   "execution_count": 5,
   "id": "cbc338a9-4fda-4f7d-b8e8-ad3afd13b762",
   "metadata": {
    "execution": {
     "iopub.execute_input": "2025-05-19T11:57:09.577443Z",
     "iopub.status.busy": "2025-05-19T11:57:09.577365Z",
     "iopub.status.idle": "2025-05-19T11:57:09.579744Z",
     "shell.execute_reply": "2025-05-19T11:57:09.579480Z"
    }
   },
   "outputs": [
    {
     "data": {
      "text/plain": [
       "TensorDict(\n",
       "    fields={\n",
       "        ego_target_direction: Tensor(shape=torch.Size([100, 10, 2]), device=cpu, dtype=torch.float32, is_shared=False),\n",
       "        neighbors/position: Tensor(shape=torch.Size([100, 10, 5, 2]), device=cpu, dtype=torch.float32, is_shared=False),\n",
       "        neighbors/radius: Tensor(shape=torch.Size([100, 10, 5]), device=cpu, dtype=torch.float32, is_shared=False),\n",
       "        neighbors/valid: Tensor(shape=torch.Size([100, 10, 5]), device=cpu, dtype=torch.uint8, is_shared=False),\n",
       "        neighbors/velocity: Tensor(shape=torch.Size([100, 10, 5, 2]), device=cpu, dtype=torch.float32, is_shared=False)},\n",
       "    batch_size=torch.Size([100, 10]),\n",
       "    device=cpu,\n",
       "    is_shared=False)"
      ]
     },
     "execution_count": 5,
     "metadata": {},
     "output_type": "execute_result"
    }
   ],
   "source": [
    "rs['first']['observation']"
   ]
  },
  {
   "cell_type": "code",
   "execution_count": 6,
   "id": "f5bf676a-a853-48b0-b62f-81c79c6af52e",
   "metadata": {
    "execution": {
     "iopub.execute_input": "2025-05-19T11:57:09.580841Z",
     "iopub.status.busy": "2025-05-19T11:57:09.580768Z",
     "iopub.status.idle": "2025-05-19T11:57:09.582767Z",
     "shell.execute_reply": "2025-05-19T11:57:09.582542Z"
    }
   },
   "outputs": [
    {
     "data": {
      "text/plain": [
       "TensorDict(\n",
       "    fields={\n",
       "        ego_target_direction: Tensor(shape=torch.Size([100, 10, 2]), device=cpu, dtype=torch.float32, is_shared=False),\n",
       "        lidar/fov: Tensor(shape=torch.Size([100, 10, 1]), device=cpu, dtype=torch.float32, is_shared=False),\n",
       "        lidar/max_range: Tensor(shape=torch.Size([100, 10, 1]), device=cpu, dtype=torch.float32, is_shared=False),\n",
       "        lidar/range: Tensor(shape=torch.Size([100, 10, 100]), device=cpu, dtype=torch.float32, is_shared=False),\n",
       "        lidar/start_angle: Tensor(shape=torch.Size([100, 10, 1]), device=cpu, dtype=torch.float32, is_shared=False)},\n",
       "    batch_size=torch.Size([100, 10]),\n",
       "    device=cpu,\n",
       "    is_shared=False)"
      ]
     },
     "execution_count": 6,
     "metadata": {},
     "output_type": "execute_result"
    }
   ],
   "source": [
    "rs['second']['observation']"
   ]
  },
  {
   "cell_type": "markdown",
   "id": "921acd31-f574-481d-bcc3-4974660a5c76",
   "metadata": {},
   "source": [
    "When the parallel environement global state is configured, the rollout also includes too:"
   ]
  },
  {
   "cell_type": "code",
   "execution_count": 7,
   "id": "44ad9391-5ccd-42f6-8759-6a33cc5942b1",
   "metadata": {
    "execution": {
     "iopub.execute_input": "2025-05-19T11:57:09.583730Z",
     "iopub.status.busy": "2025-05-19T11:57:09.583660Z",
     "iopub.status.idle": "2025-05-19T11:57:10.119702Z",
     "shell.execute_reply": "2025-05-19T11:57:10.119408Z"
    }
   },
   "outputs": [],
   "source": [
    "penv_state = io.load_env('penv_state.yaml')\n",
    "env = make_env(penv_state)\n",
    "rs = env.rollout(max_steps=100)"
   ]
  },
  {
   "cell_type": "code",
   "execution_count": 8,
   "id": "86c094ee-8e91-4b82-9e4e-4c5d89731f2d",
   "metadata": {
    "execution": {
     "iopub.execute_input": "2025-05-19T11:57:10.121400Z",
     "iopub.status.busy": "2025-05-19T11:57:10.121277Z",
     "iopub.status.idle": "2025-05-19T11:57:10.133019Z",
     "shell.execute_reply": "2025-05-19T11:57:10.132808Z"
    }
   },
   "outputs": [
    {
     "data": {
      "text/plain": [
       "tensor([[ 1.8187, -0.1003,  1.1902,  ...,  1.5299,  0.7113, -0.1702],\n",
       "        [ 1.8212, -0.0989,  1.1902,  ...,  1.5318,  0.7081, -0.1776],\n",
       "        [ 1.8212, -0.0989,  1.1902,  ...,  1.5318,  0.7053, -0.1825],\n",
       "        ...,\n",
       "        [ 1.9602, -0.1683,  1.2041,  ...,  1.5325,  0.6386, -0.2083],\n",
       "        [ 1.9602, -0.1683,  1.2053,  ...,  1.5325,  0.6379, -0.2088],\n",
       "        [ 1.9612, -0.1723,  1.2060,  ...,  1.5348,  0.6368, -0.2095]])"
      ]
     },
     "execution_count": 8,
     "metadata": {},
     "output_type": "execute_result"
    }
   ],
   "source": [
    "rs['state']"
   ]
  },
  {
   "cell_type": "code",
   "execution_count": null,
   "id": "3d4534e5-ecb6-4445-b620-f0a1ae7ca906",
   "metadata": {},
   "outputs": [],
   "source": []
  }
 ],
 "metadata": {
  "kernelspec": {
   "display_name": "Python 3 (ipykernel)",
   "language": "python",
   "name": "python3"
  },
  "language_info": {
   "codemirror_mode": {
    "name": "ipython",
    "version": 3
   },
   "file_extension": ".py",
   "mimetype": "text/x-python",
   "name": "python",
   "nbconvert_exporter": "python",
   "pygments_lexer": "ipython3",
   "version": "3.12.10"
  }
 },
 "nbformat": 4,
 "nbformat_minor": 5
}
