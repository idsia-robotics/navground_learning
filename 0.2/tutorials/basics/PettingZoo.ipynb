{
 "cells": [
  {
   "cell_type": "markdown",
   "id": "ef53465f-661a-4f55-b3f7-76e96ddb3c3c",
   "metadata": {
    "editable": true,
    "slideshow": {
     "slide_type": ""
    },
    "tags": []
   },
   "source": [
    "# PettingZoo \n",
    "\n",
    "This notebook showcases the integration between navground and PettingZoo, the \"multi-agent\" version of Gymnasium.\n",
    "We focus on the differences compared to with Gymnasium: have a look at [the Gymnasium notebook](Gymnasium.ipynb) for the common parts (e.g., rendering).\n",
    "\n",
    "While in Gymnasium we control a single navground agent (which may move among many other agents controlled by navground), with PettingZoo we can control multiple agents, even all the agents of a navground simulation. \n",
    "\n",
    "To start, we load the same scenario with 20 agents and the same sensor"
   ]
  },
  {
   "cell_type": "code",
   "execution_count": 1,
   "id": "0ec8665a-e9d2-4d40-8a4c-486c34aa2034",
   "metadata": {
    "execution": {
     "iopub.execute_input": "2025-05-19T11:55:56.262542Z",
     "iopub.status.busy": "2025-05-19T11:55:56.262305Z",
     "iopub.status.idle": "2025-05-19T11:55:56.880193Z",
     "shell.execute_reply": "2025-05-19T11:55:56.879931Z"
    }
   },
   "outputs": [],
   "source": [
    "from navground import sim\n",
    "import numpy as np\n",
    "\n",
    "from navground import sim\n",
    "\n",
    "with open('scenario.yaml') as f:\n",
    "    scenario = sim.load_scenario(f.read())\n",
    "\n",
    "with open('sensor.yaml') as f:\n",
    "    sensor = sim.load_state_estimation(f.read())"
   ]
  },
  {
   "cell_type": "markdown",
   "id": "63230493-dffb-4a8f-be33-99b93f746ab0",
   "metadata": {},
   "source": [
    "## A single group\n",
    "\n",
    "Now, instead of a single agent, we want to control a group of agents with a policy acting on the selected sensor.\n",
    "We define the PettingZoo environment, controlling the first 10 agents, *sharing* the same configuration."
   ]
  },
  {
   "cell_type": "code",
   "execution_count": 2,
   "id": "8dc2b1e2-bb71-4153-9cff-a92056e5cbbb",
   "metadata": {
    "editable": true,
    "execution": {
     "iopub.execute_input": "2025-05-19T11:55:56.881621Z",
     "iopub.status.busy": "2025-05-19T11:55:56.881514Z",
     "iopub.status.idle": "2025-05-19T11:55:57.081826Z",
     "shell.execute_reply": "2025-05-19T11:55:57.081533Z"
    },
    "slideshow": {
     "slide_type": ""
    },
    "tags": []
   },
   "outputs": [],
   "source": [
    "from navground.learning.parallel_env import shared_parallel_env\n",
    "from navground.learning import DefaultObservationConfig, ControlActionConfig\n",
    "from navground.learning.rewards import SocialReward\n",
    "\n",
    "observation_config = DefaultObservationConfig(include_target_direction=True, \n",
    "                                              include_target_distance=True)\n",
    "action_config = ControlActionConfig()\n",
    "\n",
    "env = shared_parallel_env(\n",
    "    scenario=scenario,\n",
    "    indices=slice(0, 10, 1),\n",
    "    sensor=sensor,\n",
    "    action=action_config,\n",
    "    observation=observation_config,\n",
    "    reward=SocialReward(),\n",
    "    time_step=0.1,\n",
    "    max_duration=60.0)"
   ]
  },
  {
   "cell_type": "markdown",
   "id": "a1204acf-0024-47b0-b0ff-9ea89608951c",
   "metadata": {},
   "source": [
    "All agents have the same observation and action spaces has configured "
   ]
  },
  {
   "cell_type": "code",
   "execution_count": 3,
   "id": "446a4763-8da6-4622-8d99-44204a5b5aa5",
   "metadata": {
    "execution": {
     "iopub.execute_input": "2025-05-19T11:55:57.083296Z",
     "iopub.status.busy": "2025-05-19T11:55:57.083204Z",
     "iopub.status.idle": "2025-05-19T11:55:57.087127Z",
     "shell.execute_reply": "2025-05-19T11:55:57.086876Z"
    }
   },
   "outputs": [
    {
     "name": "stdout",
     "output_type": "stream",
     "text": [
      "We are controlling 10 agents\n",
      "They share the same observation Dict('neighbors/position': Box(-5.0, 5.0, (5, 2), float32), 'neighbors/radius': Box(0.0, 0.1, (5,), float32), 'neighbors/valid': Box(0, 1, (5,), uint8), 'neighbors/velocity': Box(-0.12, 0.12, (5, 2), float32), 'ego_target_direction': Box(-1.0, 1.0, (2,), float32), 'ego_target_distance': Box(0.0, 5.0, (1,), float32)) and action Box(-1.0, 1.0, (2,), float32) spaces\n"
     ]
    }
   ],
   "source": [
    "print(f'We are controlling {len(env.possible_agents)} agents')\n",
    "\n",
    "observation_space = env.observation_space(0)\n",
    "action_space = env.action_space(0) \n",
    "if all(env.action_space(i) == action_space and env.observation_space(i) == observation_space \n",
    "       for i in env.possible_agents):\n",
    "    print(f'They share the same observation {observation_space} and action {action_space} spaces')"
   ]
  },
  {
   "cell_type": "markdown",
   "id": "055a91ba-0043-4436-884c-670d67d87e2e",
   "metadata": {},
   "source": [
    "The `info` map returned by `reset(...)` and `step(...)` contains the action computed by original navground behavior, in this case `HL`, for each of the 10 agents."
   ]
  },
  {
   "cell_type": "code",
   "execution_count": 4,
   "id": "9750f9c3-a422-42c3-b06c-02bbedb02865",
   "metadata": {
    "execution": {
     "iopub.execute_input": "2025-05-19T11:55:57.088311Z",
     "iopub.status.busy": "2025-05-19T11:55:57.088233Z",
     "iopub.status.idle": "2025-05-19T11:55:57.093987Z",
     "shell.execute_reply": "2025-05-19T11:55:57.093789Z"
    }
   },
   "outputs": [
    {
     "name": "stdout",
     "output_type": "stream",
     "text": [
      "Observation #0: {'ego_target_distance': array([1.3484901], dtype=float32), 'ego_target_direction': array([ 1.0000000e+00, -1.5725663e-08], dtype=float32), 'neighbors/position': array([[-0.00738173, -0.30817246],\n",
      "       [-0.38925827,  0.01894906],\n",
      "       [-0.46368217, -0.4778133 ],\n",
      "       [ 0.15306982, -0.6674728 ],\n",
      "       [ 0.5088892 , -0.62434775]], dtype=float32), 'neighbors/radius': array([0.1, 0.1, 0.1, 0.1, 0.1], dtype=float32), 'neighbors/valid': array([1, 1, 1, 1, 1], dtype=uint8), 'neighbors/velocity': array([[0., 0.],\n",
      "       [0., 0.],\n",
      "       [0., 0.],\n",
      "       [0., 0.],\n",
      "       [0., 0.]], dtype=float32)}\n",
      "Info #0: {'navground_action': array([0.32967997, 0.        ])}\n"
     ]
    }
   ],
   "source": [
    "observations, infos = env.reset()\n",
    "print(f\"Observation #0: {observations[0]}\")\n",
    "print(f\"Info #0: {infos[0]}\")"
   ]
  },
  {
   "cell_type": "markdown",
   "id": "8d921c1f-6a65-4bc0-8ff9-e0e771a5e53e",
   "metadata": {},
   "source": [
    "Let's collect the reward from the original controller"
   ]
  },
  {
   "cell_type": "code",
   "execution_count": 5,
   "id": "3f46e603-500d-4d16-bd7d-b939209376f8",
   "metadata": {
    "execution": {
     "iopub.execute_input": "2025-05-19T11:55:57.095024Z",
     "iopub.status.busy": "2025-05-19T11:55:57.094951Z",
     "iopub.status.idle": "2025-05-19T11:55:57.476485Z",
     "shell.execute_reply": "2025-05-19T11:55:57.476252Z"
    }
   },
   "outputs": [
    {
     "name": "stdout",
     "output_type": "stream",
     "text": [
      "reset after 600 steps\n",
      "mean reward -0.252\n"
     ]
    }
   ],
   "source": [
    "all_rewards = []\n",
    "for n in range(1000):\n",
    "    actions = {i: info['navground_action'] for i, info in infos.items()}\n",
    "    observations, rewards, terminated, truncated, infos = env.step(actions)\n",
    "    all_rewards.append(np.mean(list(rewards.values())))\n",
    "    done = np.bitwise_or(list(terminated.values()), list(truncated.values()))\n",
    "    if np.all(done):\n",
    "        print(f'reset after {n} steps')\n",
    "        observations, infos = env.reset()\n",
    "\n",
    "print(f'mean reward {np.mean(all_rewards):.3f}')"
   ]
  },
  {
   "cell_type": "markdown",
   "id": "c5127035-c9df-4345-86a1-3463eabb05df",
   "metadata": {},
   "source": [
    "and compare it with the reward from a random policy"
   ]
  },
  {
   "cell_type": "code",
   "execution_count": 6,
   "id": "96b2a2b3-d5c3-4146-bb0d-ddebbc55d12b",
   "metadata": {
    "execution": {
     "iopub.execute_input": "2025-05-19T11:55:57.477564Z",
     "iopub.status.busy": "2025-05-19T11:55:57.477495Z",
     "iopub.status.idle": "2025-05-19T11:55:58.028185Z",
     "shell.execute_reply": "2025-05-19T11:55:58.027923Z"
    }
   },
   "outputs": [
    {
     "name": "stdout",
     "output_type": "stream",
     "text": [
      "reset after 600 steps\n"
     ]
    },
    {
     "name": "stdout",
     "output_type": "stream",
     "text": [
      "mean reward -1.059\n"
     ]
    }
   ],
   "source": [
    "observations, infos = env.reset()\n",
    "all_rewards = []\n",
    "for n in range(1000):\n",
    "    actions = {i: env.action_space(i).sample() for i in range(10)}\n",
    "    observations, rewards, terminated, truncated, infos = env.step(actions)\n",
    "    all_rewards.append(np.mean(list(rewards.values())))\n",
    "    done = np.bitwise_or(list(terminated.values()), list(truncated.values()))\n",
    "    if np.all(done):\n",
    "        print(f'reset after {n} steps')\n",
    "        observations, infos = env.reset()\n",
    "\n",
    "print(f'mean reward {np.mean(all_rewards):.3f}')"
   ]
  },
  {
   "cell_type": "markdown",
   "id": "d3aa6665-82bb-441f-b54f-1f0d25afded3",
   "metadata": {},
   "source": [
    "We want to use a machine learning policy to generate to action. For instance, a random policy, like"
   ]
  },
  {
   "cell_type": "code",
   "execution_count": 7,
   "id": "2e144683-6316-4e64-83fd-781ed15cc006",
   "metadata": {
    "execution": {
     "iopub.execute_input": "2025-05-19T11:55:58.029476Z",
     "iopub.status.busy": "2025-05-19T11:55:58.029370Z",
     "iopub.status.idle": "2025-05-19T11:55:58.046520Z",
     "shell.execute_reply": "2025-05-19T11:55:58.046300Z"
    }
   },
   "outputs": [],
   "source": [
    "from navground.learning.policies.random_predictor import RandomPredictor\n",
    "\n",
    "policies = {i: RandomPredictor(observation_space=env.observation_space(i), \n",
    "                               action_space=env.action_space(i)) \n",
    "            for i in env.agents}"
   ]
  },
  {
   "cell_type": "markdown",
   "id": "e7f31954-63c4-4fa9-82c8-a27611037230",
   "metadata": {},
   "source": [
    "Policies output a tuple `(action, state)`. Therefore the new loop is"
   ]
  },
  {
   "cell_type": "code",
   "execution_count": 8,
   "id": "68f9daeb-e184-4476-b89a-76fc9ae2a27b",
   "metadata": {
    "execution": {
     "iopub.execute_input": "2025-05-19T11:55:58.047602Z",
     "iopub.status.busy": "2025-05-19T11:55:58.047526Z",
     "iopub.status.idle": "2025-05-19T11:55:58.624695Z",
     "shell.execute_reply": "2025-05-19T11:55:58.624454Z"
    }
   },
   "outputs": [
    {
     "name": "stdout",
     "output_type": "stream",
     "text": [
      "reset after 600 steps\n"
     ]
    },
    {
     "name": "stdout",
     "output_type": "stream",
     "text": [
      "mean reward -1.034\n"
     ]
    }
   ],
   "source": [
    "observations, infos = env.reset()\n",
    "rewards = []\n",
    "for n in range(1000):\n",
    "    actions = {i: policies[i].predict(observations[i])[0] for i in env.agents}\n",
    "    observations, rewards, terminated, truncated, infos = env.step(actions)\n",
    "    all_rewards.append(np.mean(list(rewards.values())))\n",
    "    done = np.bitwise_or(list(terminated.values()), list(truncated.values()))\n",
    "    if np.all(done):\n",
    "        print(f'reset after {n} steps')\n",
    "        observations, infos = env.reset()\n",
    "\n",
    "print(f'mean reward {np.mean(all_rewards):.3f}')"
   ]
  },
  {
   "cell_type": "markdown",
   "id": "b49992c5-64da-4860-9bb3-a7ba9a203e09",
   "metadata": {},
   "source": [
    "## Two groups\n",
    "\n",
    "Let us now consider the more complex case where we want to control agents using different sensors and/or configurations.\n",
    "For instance, we want to control the first 10 agents like before and the second 10 agents using a lidar scanner.\n",
    "Let say we also want to control the second group in acceleration vs the first group in speed."
   ]
  },
  {
   "cell_type": "code",
   "execution_count": 9,
   "id": "d760369a-cf39-47ba-ad8a-cb8272c6340d",
   "metadata": {
    "execution": {
     "iopub.execute_input": "2025-05-19T11:55:58.625809Z",
     "iopub.status.busy": "2025-05-19T11:55:58.625728Z",
     "iopub.status.idle": "2025-05-19T11:55:58.627300Z",
     "shell.execute_reply": "2025-05-19T11:55:58.627082Z"
    }
   },
   "outputs": [],
   "source": [
    "lidar = sim.load_state_estimation(\"\"\"\n",
    "type: Lidar\n",
    "resolution: 100\n",
    "range: 5.0\n",
    "name: lidar\n",
    "\"\"\")"
   ]
  },
  {
   "cell_type": "code",
   "execution_count": 10,
   "id": "121f6736-2017-4e8c-a5fd-35a3dc212ea8",
   "metadata": {
    "execution": {
     "iopub.execute_input": "2025-05-19T11:55:58.628334Z",
     "iopub.status.busy": "2025-05-19T11:55:58.628264Z",
     "iopub.status.idle": "2025-05-19T11:55:58.637179Z",
     "shell.execute_reply": "2025-05-19T11:55:58.636951Z"
    }
   },
   "outputs": [],
   "source": [
    "from navground.learning.parallel_env import parallel_env\n",
    "from navground.learning import GroupConfig\n",
    "\n",
    "first_group = GroupConfig(indices=slice(0, 10, 1), sensor=sensor, \n",
    "                          observation = DefaultObservationConfig(include_target_distance=False), \n",
    "                          action = ControlActionConfig(), \n",
    "                          reward=SocialReward(), tag='first')\n",
    "second_group = GroupConfig(indices=slice(10, 20, 1), sensor=lidar, \n",
    "                           observation = DefaultObservationConfig(), \n",
    "                           action = ControlActionConfig(use_acceleration_action=True, \n",
    "                                                        max_acceleration=1.0, \n",
    "                                                        max_angular_acceleration=10.0), \n",
    "                           reward=SocialReward(), tag='second')\n",
    "\n",
    "env2 = parallel_env(scenario=scenario, groups=[first_group, second_group], \n",
    "                    time_step=0.1, max_duration=60.0)"
   ]
  },
  {
   "cell_type": "markdown",
   "id": "46ff36a0-f985-43a9-af3c-13e3b530f545",
   "metadata": {},
   "source": [
    "The two groups uses now different observation spaces"
   ]
  },
  {
   "cell_type": "code",
   "execution_count": 11,
   "id": "ae72065e-0234-48e8-98e4-fabb0ac055a5",
   "metadata": {
    "execution": {
     "iopub.execute_input": "2025-05-19T11:55:58.638163Z",
     "iopub.status.busy": "2025-05-19T11:55:58.638095Z",
     "iopub.status.idle": "2025-05-19T11:55:58.640936Z",
     "shell.execute_reply": "2025-05-19T11:55:58.640690Z"
    }
   },
   "outputs": [
    {
     "data": {
      "text/plain": [
       "Dict('neighbors/position': Box(-5.0, 5.0, (5, 2), float32), 'neighbors/radius': Box(0.0, 0.1, (5,), float32), 'neighbors/valid': Box(0, 1, (5,), uint8), 'neighbors/velocity': Box(-0.12, 0.12, (5, 2), float32), 'ego_target_direction': Box(-1.0, 1.0, (2,), float32))"
      ]
     },
     "execution_count": 11,
     "metadata": {},
     "output_type": "execute_result"
    }
   ],
   "source": [
    "env2.observation_space(0)"
   ]
  },
  {
   "cell_type": "code",
   "execution_count": 12,
   "id": "e7ce4ff0-6159-4983-9bec-df4da1a6d491",
   "metadata": {
    "execution": {
     "iopub.execute_input": "2025-05-19T11:55:58.642008Z",
     "iopub.status.busy": "2025-05-19T11:55:58.641931Z",
     "iopub.status.idle": "2025-05-19T11:55:58.643829Z",
     "shell.execute_reply": "2025-05-19T11:55:58.643634Z"
    }
   },
   "outputs": [
    {
     "data": {
      "text/plain": [
       "Dict('lidar/fov': Box(0.0, 6.2831855, (1,), float32), 'lidar/max_range': Box(0.0, 10.0, (1,), float32), 'lidar/range': Box(0.0, 5.0, (100,), float32), 'lidar/start_angle': Box(-6.2831855, 6.2831855, (1,), float32), 'ego_target_direction': Box(-1.0, 1.0, (2,), float32))"
      ]
     },
     "execution_count": 12,
     "metadata": {},
     "output_type": "execute_result"
    }
   ],
   "source": [
    "env2.observation_space(10)"
   ]
  },
  {
   "cell_type": "markdown",
   "id": "22a8adab-148f-4aac-bfe5-2135628cc506",
   "metadata": {},
   "source": [
    "and differnet maps between actions and commands"
   ]
  },
  {
   "cell_type": "code",
   "execution_count": 13,
   "id": "a8a05288-55ad-4708-9635-20511c5d637f",
   "metadata": {
    "execution": {
     "iopub.execute_input": "2025-05-19T11:55:58.644884Z",
     "iopub.status.busy": "2025-05-19T11:55:58.644818Z",
     "iopub.status.idle": "2025-05-19T11:55:58.646575Z",
     "shell.execute_reply": "2025-05-19T11:55:58.646379Z"
    }
   },
   "outputs": [
    {
     "data": {
      "text/plain": [
       "Twist2((0.120000, 0.000000), 2.553191, frame=Frame.relative)"
      ]
     },
     "execution_count": 13,
     "metadata": {},
     "output_type": "execute_result"
    }
   ],
   "source": [
    "env2.get_cmd_from_action(index=0, action=np.ones(2), time_step=0.1)"
   ]
  },
  {
   "cell_type": "code",
   "execution_count": 14,
   "id": "eb2a8fb9-a5f6-4223-b286-da7c166e9bfa",
   "metadata": {
    "execution": {
     "iopub.execute_input": "2025-05-19T11:55:58.647540Z",
     "iopub.status.busy": "2025-05-19T11:55:58.647471Z",
     "iopub.status.idle": "2025-05-19T11:55:58.649416Z",
     "shell.execute_reply": "2025-05-19T11:55:58.649191Z"
    }
   },
   "outputs": [
    {
     "data": {
      "text/plain": [
       "Twist2((0.100000, 0.000000), 1.000000, frame=Frame.relative)"
      ]
     },
     "execution_count": 14,
     "metadata": {},
     "output_type": "execute_result"
    }
   ],
   "source": [
    "env2.get_cmd_from_action(index=10, action=np.ones(2), time_step=0.1)"
   ]
  },
  {
   "cell_type": "markdown",
   "id": "ff389e56-474f-4c82-aa93-554829ba16fd",
   "metadata": {},
   "source": [
    "## State\n",
    "\n",
    "PettingZoo environment expose a global state too, which we configure through a `StateConfig`. Next, we configure the global state for the same 2-group environment to include all 2D positions:"
   ]
  },
  {
   "cell_type": "code",
   "execution_count": 15,
   "id": "038ddcd7-ce9d-4a08-8235-cc5a3faeb77b",
   "metadata": {
    "execution": {
     "iopub.execute_input": "2025-05-19T11:55:58.650466Z",
     "iopub.status.busy": "2025-05-19T11:55:58.650394Z",
     "iopub.status.idle": "2025-05-19T11:55:58.659257Z",
     "shell.execute_reply": "2025-05-19T11:55:58.659056Z"
    }
   },
   "outputs": [
    {
     "data": {
      "text/plain": [
       "Box(-2.0, 2.0, (40,), float32)"
      ]
     },
     "execution_count": 15,
     "metadata": {},
     "output_type": "execute_result"
    }
   ],
   "source": [
    "from navground.learning import DefaultStateConfig\n",
    "\n",
    "state_config = DefaultStateConfig(include_position=True)\n",
    "\n",
    "env_state = parallel_env(scenario=scenario, state=state_config, groups=[first_group, second_group], \n",
    "                         time_step=0.1, max_duration=60.0)\n",
    "env_state.state_space"
   ]
  },
  {
   "cell_type": "code",
   "execution_count": 16,
   "id": "47222434-de65-4e47-b8ac-f7198d612e2b",
   "metadata": {
    "execution": {
     "iopub.execute_input": "2025-05-19T11:55:58.660264Z",
     "iopub.status.busy": "2025-05-19T11:55:58.660195Z",
     "iopub.status.idle": "2025-05-19T11:55:58.664998Z",
     "shell.execute_reply": "2025-05-19T11:55:58.664793Z"
    }
   },
   "outputs": [
    {
     "data": {
      "text/plain": [
       "array([ 0.18549144,  0.35280955,  0.8253108 ,  1.3351982 ,  0.42879337,\n",
       "        1.4013637 ,  0.04322448,  1.2935146 , -0.29011178,  0.46954215,\n",
       "        0.61308354, -0.44533634, -0.23716867, -0.7693684 ,  1.4887372 ,\n",
       "       -1.6844907 ,  1.7619184 , -0.863906  , -0.44292223, -0.08487248,\n",
       "        1.1511286 ,  1.1025013 ,  0.097995  , -0.04596518,  0.21168919,\n",
       "       -0.43155256,  1.712881  ,  1.2181036 , -1.5547919 , -0.6635826 ,\n",
       "       -1.5689087 ,  0.56305325, -1.8984411 , -0.454994  ,  1.2372903 ,\n",
       "        1.8097478 ,  1.0569957 , -1.366667  ,  1.375972  ,  1.4343923 ],\n",
       "      dtype=float32)"
      ]
     },
     "execution_count": 16,
     "metadata": {},
     "output_type": "execute_result"
    }
   ],
   "source": [
    "env_state.reset()\n",
    "env_state.state()"
   ]
  },
  {
   "cell_type": "markdown",
   "id": "70cde0d0-ee7c-4d72-8bc3-c0f4d564a33f",
   "metadata": {},
   "source": [
    "## Converto to a Gymansium environement\n",
    "\n",
    "We can always transform multi-agent to single-agent environements. In the most general case, \n",
    "we can concatenate observations and actions and sum rewards. \n",
    "\n",
    "When agents share the same configuration (and in particular action and observation spaces), we can stack observations and actions instead.\n",
    "\n",
    "### Vectorized Environement\n",
    "\n",
    "We can look at one multi-agent environement with `N` agents like `N` stacked single-agent evironments composing a vectorized  single-agent evironment."
   ]
  },
  {
   "cell_type": "code",
   "execution_count": 17,
   "id": "5fdd2705-c5f5-4b7f-841b-b4f493bf8aa9",
   "metadata": {
    "execution": {
     "iopub.execute_input": "2025-05-19T11:55:58.666006Z",
     "iopub.status.busy": "2025-05-19T11:55:58.665938Z",
     "iopub.status.idle": "2025-05-19T11:55:58.671319Z",
     "shell.execute_reply": "2025-05-19T11:55:58.671117Z"
    }
   },
   "outputs": [],
   "source": [
    "env3 = shared_parallel_env(\n",
    "    scenario=scenario,\n",
    "    sensor=sensor,\n",
    "    indices=slice(0, 10),\n",
    "    action=action_config,\n",
    "    observation=observation_config,\n",
    "    reward=SocialReward(),\n",
    "    state=state_config,\n",
    "    time_step=0.1,\n",
    "    max_duration=60.0)"
   ]
  },
  {
   "cell_type": "code",
   "execution_count": 18,
   "id": "35b2ce65-fadb-4810-b1d6-a7c55bd2efe3",
   "metadata": {
    "execution": {
     "iopub.execute_input": "2025-05-19T11:55:58.672289Z",
     "iopub.status.busy": "2025-05-19T11:55:58.672222Z",
     "iopub.status.idle": "2025-05-19T11:55:58.909264Z",
     "shell.execute_reply": "2025-05-19T11:55:58.908642Z"
    }
   },
   "outputs": [],
   "source": [
    "import supersuit\n",
    "\n",
    "venv = supersuit.pettingzoo_env_to_vec_env_v1(env3)"
   ]
  },
  {
   "cell_type": "markdown",
   "id": "2d272656-4212-4519-b79b-2b134cab1222",
   "metadata": {},
   "source": [
    "with "
   ]
  },
  {
   "cell_type": "code",
   "execution_count": 19,
   "id": "a44418c4-86e2-4a70-aa15-2932ea9e230d",
   "metadata": {
    "execution": {
     "iopub.execute_input": "2025-05-19T11:55:58.912562Z",
     "iopub.status.busy": "2025-05-19T11:55:58.912302Z",
     "iopub.status.idle": "2025-05-19T11:55:58.916089Z",
     "shell.execute_reply": "2025-05-19T11:55:58.915613Z"
    }
   },
   "outputs": [
    {
     "data": {
      "text/plain": [
       "10"
      ]
     },
     "execution_count": 19,
     "metadata": {},
     "output_type": "execute_result"
    }
   ],
   "source": [
    "venv.num_envs"
   ]
  },
  {
   "cell_type": "markdown",
   "id": "df5cbfd8-94dd-48cc-9ed9-7b0991c5c6b6",
   "metadata": {},
   "source": [
    "environments that represents the individual agents. \n",
    "\n",
    "This vector env follows the Gymnasium API, stacking together observation, actions of the individual agents."
   ]
  },
  {
   "cell_type": "code",
   "execution_count": 20,
   "id": "5c13a1d6-510a-45a7-af49-5b207092c9d9",
   "metadata": {
    "execution": {
     "iopub.execute_input": "2025-05-19T11:55:58.917914Z",
     "iopub.status.busy": "2025-05-19T11:55:58.917759Z",
     "iopub.status.idle": "2025-05-19T11:55:58.920969Z",
     "shell.execute_reply": "2025-05-19T11:55:58.920590Z"
    }
   },
   "outputs": [
    {
     "data": {
      "text/plain": [
       "(Dict('neighbors/position': Box(-5.0, 5.0, (5, 2), float32), 'neighbors/radius': Box(0.0, 0.1, (5,), float32), 'neighbors/valid': Box(0, 1, (5,), uint8), 'neighbors/velocity': Box(-0.12, 0.12, (5, 2), float32), 'ego_target_direction': Box(-1.0, 1.0, (2,), float32), 'ego_target_distance': Box(0.0, 5.0, (1,), float32)),\n",
       " Box(-1.0, 1.0, (2,), float32))"
      ]
     },
     "execution_count": 20,
     "metadata": {},
     "output_type": "execute_result"
    }
   ],
   "source": [
    "venv.observation_space, venv.action_space"
   ]
  },
  {
   "cell_type": "markdown",
   "id": "d4c9afb3-0011-414a-9844-d801735f99f6",
   "metadata": {},
   "source": [
    "If we want instead an vector env to follows the SB3 API, we can use (even stacking multiple vectorized envs together)"
   ]
  },
  {
   "cell_type": "code",
   "execution_count": 21,
   "id": "080562c4-1d42-4bbc-aaf7-dda7c824f3d8",
   "metadata": {
    "execution": {
     "iopub.execute_input": "2025-05-19T11:55:58.922910Z",
     "iopub.status.busy": "2025-05-19T11:55:58.922726Z",
     "iopub.status.idle": "2025-05-19T11:56:08.293190Z",
     "shell.execute_reply": "2025-05-19T11:56:08.292342Z"
    }
   },
   "outputs": [],
   "source": [
    "venv1 = supersuit.concat_vec_envs_v1(venv, 2, num_cpus=1, base_class=\"stable_baselines3\")"
   ]
  },
  {
   "cell_type": "code",
   "execution_count": 22,
   "id": "bc9e9dc8-8f6c-44c2-88e6-0886d7ddea11",
   "metadata": {
    "execution": {
     "iopub.execute_input": "2025-05-19T11:56:08.297541Z",
     "iopub.status.busy": "2025-05-19T11:56:08.296865Z",
     "iopub.status.idle": "2025-05-19T11:56:08.302174Z",
     "shell.execute_reply": "2025-05-19T11:56:08.301523Z"
    }
   },
   "outputs": [
    {
     "data": {
      "text/plain": [
       "20"
      ]
     },
     "execution_count": 22,
     "metadata": {},
     "output_type": "execute_result"
    }
   ],
   "source": [
    "venv1.num_envs"
   ]
  },
  {
   "cell_type": "markdown",
   "id": "19e82d14-09e3-46fc-96a3-96ba8bc16a13",
   "metadata": {},
   "source": [
    "### Joint Environement\n",
    "\n",
    "A joint environnment is similar but rewards (`sum`), terminations (`all`) and truncation (`any`) are aggregared together, resulting in a single Gymnasium environment:"
   ]
  },
  {
   "cell_type": "code",
   "execution_count": 23,
   "id": "6513f653-59ae-407a-8ec0-bdaa293cedc1",
   "metadata": {
    "execution": {
     "iopub.execute_input": "2025-05-19T11:56:08.304789Z",
     "iopub.status.busy": "2025-05-19T11:56:08.304548Z",
     "iopub.status.idle": "2025-05-19T11:56:08.309655Z",
     "shell.execute_reply": "2025-05-19T11:56:08.309235Z"
    }
   },
   "outputs": [
    {
     "data": {
      "text/plain": [
       "(Dict('ego_target_direction': Box(-1.0, 1.0, (10, 2), float32), 'ego_target_distance': Box(0.0, 5.0, (10, 1), float32), 'neighbors/position': Box(-5.0, 5.0, (10, 5, 2), float32), 'neighbors/radius': Box(0.0, 0.1, (10, 5), float32), 'neighbors/valid': Box(0.0, 1.0, (10, 5), float32), 'neighbors/velocity': Box(-0.12, 0.12, (10, 5, 2), float32)),\n",
       " Box(-1.0, 1.0, (10, 2), float32))"
      ]
     },
     "execution_count": 23,
     "metadata": {},
     "output_type": "execute_result"
    }
   ],
   "source": [
    "from navground.learning.parallel_env import JointEnv\n",
    "\n",
    "jenv = JointEnv(env)\n",
    "jenv.observation_space, jenv.action_space"
   ]
  },
  {
   "cell_type": "markdown",
   "id": "e43c9728-ca27-4edb-95d3-cf4ffc139d5e",
   "metadata": {},
   "source": [
    "It can be configured to use the global state as observations:"
   ]
  },
  {
   "cell_type": "code",
   "execution_count": 24,
   "id": "98126771-4de3-4f8a-8acf-9836361cee9f",
   "metadata": {
    "execution": {
     "iopub.execute_input": "2025-05-19T11:56:08.311659Z",
     "iopub.status.busy": "2025-05-19T11:56:08.311453Z",
     "iopub.status.idle": "2025-05-19T11:56:08.314861Z",
     "shell.execute_reply": "2025-05-19T11:56:08.314463Z"
    }
   },
   "outputs": [
    {
     "data": {
      "text/plain": [
       "(Box(-2.0, 2.0, (40,), float32), Box(-1.0, 1.0, (20, 2), float32))"
      ]
     },
     "execution_count": 24,
     "metadata": {},
     "output_type": "execute_result"
    }
   ],
   "source": [
    "jenv = JointEnv(env_state, state=True)\n",
    "jenv.observation_space, jenv.action_space"
   ]
  },
  {
   "cell_type": "markdown",
   "id": "f9aa9541-f4a5-4b94-a5a4-113b1dcb8c5f",
   "metadata": {},
   "source": [
    "## Convert from a Gymnasium Env"
   ]
  },
  {
   "cell_type": "markdown",
   "id": "0dde282b-c921-4bb7-aa8e-29d5fcd3337d",
   "metadata": {},
   "source": [
    "If we have a single agent navground enviroment that uses a multi-agent scenario, we\n",
    "can convert it to a parallel environment, where all controlled agents share the same configuration, like for `shared_parallel_env`.\n",
    "\n",
    "Let us load the environment we saved in the previous notebook"
   ]
  },
  {
   "cell_type": "code",
   "execution_count": 25,
   "id": "4ad50d5a-ef97-4b46-a8fa-f19a0c608685",
   "metadata": {
    "execution": {
     "iopub.execute_input": "2025-05-19T11:56:08.316755Z",
     "iopub.status.busy": "2025-05-19T11:56:08.316609Z",
     "iopub.status.idle": "2025-05-19T11:56:08.405914Z",
     "shell.execute_reply": "2025-05-19T11:56:08.405513Z"
    }
   },
   "outputs": [],
   "source": [
    "from navground.learning import io\n",
    "\n",
    "sa_env = io.load_env('env.yaml')"
   ]
  },
  {
   "cell_type": "markdown",
   "id": "1e2001df-f6d2-4750-8e8d-d32a2bdb4aaf",
   "metadata": {},
   "source": [
    "and covert it to a parallel environment, controlling 10 (out of the total 20) agents."
   ]
  },
  {
   "cell_type": "code",
   "execution_count": 26,
   "id": "d57f69eb-3bc5-4b50-ba99-bb2cd5e0b7dc",
   "metadata": {
    "execution": {
     "iopub.execute_input": "2025-05-19T11:56:08.408030Z",
     "iopub.status.busy": "2025-05-19T11:56:08.407869Z",
     "iopub.status.idle": "2025-05-19T11:56:08.409956Z",
     "shell.execute_reply": "2025-05-19T11:56:08.409631Z"
    }
   },
   "outputs": [],
   "source": [
    "from navground.learning.parallel_env import make_shared_parallel_env_with_env"
   ]
  },
  {
   "cell_type": "code",
   "execution_count": 27,
   "id": "76cbef3f-7026-432f-914c-f41c2eb9ac60",
   "metadata": {
    "execution": {
     "iopub.execute_input": "2025-05-19T11:56:08.411572Z",
     "iopub.status.busy": "2025-05-19T11:56:08.411418Z",
     "iopub.status.idle": "2025-05-19T11:56:08.421816Z",
     "shell.execute_reply": "2025-05-19T11:56:08.421521Z"
    }
   },
   "outputs": [],
   "source": [
    "env4 = make_shared_parallel_env_with_env(env=sa_env, indices=slice(0, 10))"
   ]
  },
  {
   "cell_type": "code",
   "execution_count": 28,
   "id": "23789c2d-3869-41ef-bec1-2a9a12ce4b65",
   "metadata": {
    "execution": {
     "iopub.execute_input": "2025-05-19T11:56:08.423178Z",
     "iopub.status.busy": "2025-05-19T11:56:08.423057Z",
     "iopub.status.idle": "2025-05-19T11:56:08.425543Z",
     "shell.execute_reply": "2025-05-19T11:56:08.425247Z"
    }
   },
   "outputs": [
    {
     "data": {
      "text/plain": [
       "[0, 1, 2, 3, 4, 5, 6, 7, 8, 9]"
      ]
     },
     "execution_count": 28,
     "metadata": {},
     "output_type": "execute_result"
    }
   ],
   "source": [
    "env4.possible_agents"
   ]
  },
  {
   "cell_type": "markdown",
   "id": "e37d0310-bba7-4a19-a818-cac47eed9097",
   "metadata": {},
   "source": [
    "## Saving and loading"
   ]
  },
  {
   "cell_type": "markdown",
   "id": "11a67573-69d2-41f1-9d28-0a1e15987362",
   "metadata": {},
   "source": [
    "The multi-agent PettingZoo environment supports the same YAML representation like the single-agent Gymnasium environment and we can save it and load it from a YAML file."
   ]
  },
  {
   "cell_type": "code",
   "execution_count": 29,
   "id": "773946ed-0b7a-4591-a961-75c695fe412f",
   "metadata": {
    "execution": {
     "iopub.execute_input": "2025-05-19T11:56:08.426928Z",
     "iopub.status.busy": "2025-05-19T11:56:08.426806Z",
     "iopub.status.idle": "2025-05-19T11:56:08.443663Z",
     "shell.execute_reply": "2025-05-19T11:56:08.443404Z"
    }
   },
   "outputs": [],
   "source": [
    "io.save_env(env, 'penv.yaml')"
   ]
  },
  {
   "cell_type": "markdown",
   "id": "6beb51d1-1a45-4926-b4e8-8bf987d112b8",
   "metadata": {},
   "source": [
    "Let us check that the ``groups`` field is coherent with the configuration we have just provided: a single group of 10 agents (indices 0, 1, ..., 9)."
   ]
  },
  {
   "cell_type": "code",
   "execution_count": 30,
   "id": "81faf399-51db-4479-87c3-11d9a3cd693d",
   "metadata": {
    "execution": {
     "iopub.execute_input": "2025-05-19T11:56:08.445062Z",
     "iopub.status.busy": "2025-05-19T11:56:08.444959Z",
     "iopub.status.idle": "2025-05-19T11:56:08.450359Z",
     "shell.execute_reply": "2025-05-19T11:56:08.450116Z"
    }
   },
   "outputs": [
    {
     "name": "stdout",
     "output_type": "stream",
     "text": [
      "- action:\n",
      "    dof: null\n",
      "    dtype: ''\n",
      "    fix_orientation: false\n",
      "    has_wheels: null\n",
      "    max_acceleration: .inf\n",
      "    max_angular_acceleration: .inf\n",
      "    max_angular_speed: .inf\n",
      "    max_speed: .inf\n",
      "    type: Control\n",
      "    use_acceleration_action: false\n",
      "    use_wheels: false\n",
      "  indices:\n",
      "    start: 0\n",
      "    step: 1\n",
      "    stop: 10\n",
      "    type: slice\n",
      "  observation:\n",
      "    dof: null\n",
      "    dtype: ''\n",
      "    flat: false\n",
      "    flat_values: false\n",
      "    history: 1\n",
      "    ignore_keys: []\n",
      "    include_angular_speed: false\n",
      "    include_radius: false\n",
      "    include_target_angular_speed: false\n",
      "    include_target_direction: true\n",
      "    include_target_direction_validity: false\n",
      "    include_target_distance: true\n",
      "    include_target_distance_validity: false\n",
      "    include_target_orientation: false\n",
      "    include_target_orientation_validity: false\n",
      "    include_target_speed: false\n",
      "    include_velocity: false\n",
      "    keys: null\n",
      "    max_angular_speed: .inf\n",
      "    max_radius: .inf\n",
      "    max_speed: .inf\n",
      "    max_target_distance: .inf\n",
      "    normalize: false\n",
      "    sort_keys: false\n",
      "    type: Default\n",
      "  reward:\n",
      "    alpha: 0.0\n",
      "    beta: 1.0\n",
      "    critical_safety_margin: 0.0\n",
      "    default_social_margin: 0.0\n",
      "    safety_margin: null\n",
      "    social_margins: {}\n",
      "    type: Social\n",
      "  sensors:\n",
      "  - include_valid: true\n",
      "    include_x: true\n",
      "    include_y: true\n",
      "    max_id: 0\n",
      "    max_radius: 0.100000001\n",
      "    max_speed: 0.119999997\n",
      "    name: neighbors\n",
      "    number: 5\n",
      "    range: 5\n",
      "    type: Discs\n",
      "    use_nearest_point: true\n",
      "  terminate_on_failure: true\n",
      "  terminate_on_success: true\n",
      "\n"
     ]
    }
   ],
   "source": [
    "import yaml\n",
    "\n",
    "print(yaml.safe_dump(env.asdict['groups']))"
   ]
  },
  {
   "cell_type": "markdown",
   "id": "0f81a741-8d40-4240-aa2b-a7bfe01e012e",
   "metadata": {},
   "source": [
    "We also export the two-group environments that we are going to use in the next notebook."
   ]
  },
  {
   "cell_type": "code",
   "execution_count": 31,
   "id": "c663e43b-f923-4e3c-be2e-8f21181e8a79",
   "metadata": {
    "execution": {
     "iopub.execute_input": "2025-05-19T11:56:08.451672Z",
     "iopub.status.busy": "2025-05-19T11:56:08.451578Z",
     "iopub.status.idle": "2025-05-19T11:56:08.477466Z",
     "shell.execute_reply": "2025-05-19T11:56:08.477231Z"
    }
   },
   "outputs": [],
   "source": [
    "io.save_env(env2, 'penv2.yaml')\n",
    "io.save_env(env_state, 'penv_state.yaml')"
   ]
  },
  {
   "cell_type": "code",
   "execution_count": null,
   "id": "e491387e-8ee1-41bb-a241-0d9e3db6b38c",
   "metadata": {},
   "outputs": [],
   "source": []
  }
 ],
 "metadata": {
  "kernelspec": {
   "display_name": "Python 3 (ipykernel)",
   "language": "python",
   "name": "python3"
  },
  "language_info": {
   "codemirror_mode": {
    "name": "ipython",
    "version": 3
   },
   "file_extension": ".py",
   "mimetype": "text/x-python",
   "name": "python",
   "nbconvert_exporter": "python",
   "pygments_lexer": "ipython3",
   "version": "3.12.10"
  }
 },
 "nbformat": 4,
 "nbformat_minor": 5
}
